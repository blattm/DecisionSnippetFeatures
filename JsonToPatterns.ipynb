{
 "cells": [
  {
   "cell_type": "code",
   "execution_count": 4,
   "metadata": {},
   "outputs": [
    {
     "name": "stdout",
     "output_type": "stream",
     "text": [
      "1\t1\t4<10 ( leftChild 22<12 ( leftChild 24<1 ( leftChild 8<14 ( leftChild 23<5 ( leftChild  leaf  )  ( rightChild  leaf  )  )  ( rightChild 11<30 ( leftChild  leaf  )  ( rightChild  leaf  )  )  )  ( rightChild 15<69 ( leftChild 56<228050 ( leftChild  leaf  )  ( rightChild  leaf  )  )  ( rightChild 18<40 ( leftChild  leaf  )  ( rightChild  leaf  )  )  )  )  ( rightChild 43<7 ( leftChild 52<10 ( leftChild 26<2 ( leftChild  leaf  )  ( rightChild  leaf  )  )  ( rightChild  leaf  )  )  ( rightChild  leaf  )  )  )  ( rightChild 25<6 ( leftChild 28<17 ( leftChild 52<6 ( leftChild 43<3 ( leftChild  leaf  )  ( rightChild  leaf  )  )  ( rightChild 41<16 ( leftChild  leaf  )  ( rightChild  leaf  )  )  )  ( rightChild  leaf  )  )  ( rightChild 17<41 ( leftChild  leaf  )  ( rightChild 20<10 ( leftChild  leaf  )  ( rightChild 26<19 ( leftChild  leaf  )  ( rightChild  leaf  )  )  )  )  ) \n",
      "\n",
      "1\t2\t4<10 ( leftChild 22<12 ( leftChild 24<1 ( leftChild 8<14 ( leftChild 23<5 ( leftChild  leaf  )  ( rightChild  leaf  )  )  ( rightChild 11<30 ( leftChild  leaf  )  ( rightChild  leaf  )  )  )  ( rightChild 15<69 ( leftChild 56<228050 ( leftChild  leaf  )  ( rightChild  leaf  )  )  ( rightChild 18<40 ( leftChild  leaf  )  ( rightChild  leaf  )  )  )  )  ( rightChild 43<7 ( leftChild 52<10 ( leftChild 26<2 ( leftChild  leaf  )  ( rightChild  leaf  )  )  ( rightChild  leaf  )  )  ( rightChild  leaf  )  )  )  ( rightChild 25<6 ( leftChild 28<17 ( leftChild 52<6 ( leftChild 43<3 ( leftChild  leaf  )  ( rightChild  leaf  )  )  ( rightChild 41<16 ( leftChild  leaf  )  ( rightChild  leaf  )  )  )  ( rightChild  leaf  )  )  ( rightChild 17<41 ( leftChild  leaf  )  ( rightChild 20<10 ( leftChild  leaf  )  ( rightChild 26<19 ( leftChild  leaf  )  ( rightChild  leaf  )  )  )  )  ) \n",
      "\n",
      "1\t3\t4<10 ( leftChild 22<12 ( leftChild 24<1 ( leftChild 8<14 ( leftChild 23<5 ( leftChild  leaf  )  ( rightChild  leaf  )  )  ( rightChild 11<30 ( leftChild  leaf  )  ( rightChild  leaf  )  )  )  ( rightChild 15<69 ( leftChild 56<228050 ( leftChild  leaf  )  ( rightChild  leaf  )  )  ( rightChild 18<40 ( leftChild  leaf  )  ( rightChild  leaf  )  )  )  )  ( rightChild 43<7 ( leftChild 52<10 ( leftChild 26<2 ( leftChild  leaf  )  ( rightChild  leaf  )  )  ( rightChild  leaf  )  )  ( rightChild  leaf  )  )  )  ( rightChild 25<6 ( leftChild 28<17 ( leftChild 52<6 ( leftChild 43<3 ( leftChild  leaf  )  ( rightChild  leaf  )  )  ( rightChild 41<16 ( leftChild  leaf  )  ( rightChild  leaf  )  )  )  ( rightChild  leaf  )  )  ( rightChild 17<41 ( leftChild  leaf  )  ( rightChild 20<10 ( leftChild  leaf  )  ( rightChild 26<19 ( leftChild  leaf  )  ( rightChild  leaf  )  )  )  )  ) \n",
      "\n",
      "1\t4\t4<10 ( leftChild 22<12 ( leftChild 24<1 ( leftChild 8<14 ( leftChild 23<5 ( leftChild  leaf  )  ( rightChild  leaf  )  )  ( rightChild 11<30 ( leftChild  leaf  )  ( rightChild  leaf  )  )  )  ( rightChild 15<69 ( leftChild 56<228050 ( leftChild  leaf  )  ( rightChild  leaf  )  )  ( rightChild 18<40 ( leftChild  leaf  )  ( rightChild  leaf  )  )  )  )  ( rightChild 43<7 ( leftChild 52<10 ( leftChild 26<2 ( leftChild  leaf  )  ( rightChild  leaf  )  )  ( rightChild  leaf  )  )  ( rightChild  leaf  )  )  )  ( rightChild 25<6 ( leftChild 28<17 ( leftChild 52<6 ( leftChild 43<3 ( leftChild  leaf  )  ( rightChild  leaf  )  )  ( rightChild 41<16 ( leftChild  leaf  )  ( rightChild  leaf  )  )  )  ( rightChild  leaf  )  )  ( rightChild 17<41 ( leftChild  leaf  )  ( rightChild 20<10 ( leftChild  leaf  )  ( rightChild 26<19 ( leftChild  leaf  )  ( rightChild  leaf  )  )  )  )  ) \n",
      "\n",
      "1\t5\t4<10 ( leftChild 22<12 ( leftChild 24<1 ( leftChild 8<14 ( leftChild 23<5 ( leftChild  leaf  )  ( rightChild  leaf  )  )  ( rightChild 11<30 ( leftChild  leaf  )  ( rightChild  leaf  )  )  )  ( rightChild 15<69 ( leftChild 56<228050 ( leftChild  leaf  )  ( rightChild  leaf  )  )  ( rightChild 18<40 ( leftChild  leaf  )  ( rightChild  leaf  )  )  )  )  ( rightChild 43<7 ( leftChild 52<10 ( leftChild 26<2 ( leftChild  leaf  )  ( rightChild  leaf  )  )  ( rightChild  leaf  )  )  ( rightChild  leaf  )  )  )  ( rightChild 25<6 ( leftChild 28<17 ( leftChild 52<6 ( leftChild 43<3 ( leftChild  leaf  )  ( rightChild  leaf  )  )  ( rightChild 41<16 ( leftChild  leaf  )  ( rightChild  leaf  )  )  )  ( rightChild  leaf  )  )  ( rightChild 17<41 ( leftChild  leaf  )  ( rightChild 20<10 ( leftChild  leaf  )  ( rightChild 26<19 ( leftChild  leaf  )  ( rightChild  leaf  )  )  )  )  ) \n",
      "\n",
      "1\t6\t4<10 ( leftChild 22<12 ( leftChild 24<1 ( leftChild 8<14 ( leftChild 23<5 ( leftChild  leaf  )  ( rightChild  leaf  )  )  ( rightChild 11<30 ( leftChild  leaf  )  ( rightChild  leaf  )  )  )  ( rightChild 15<69 ( leftChild 56<228050 ( leftChild  leaf  )  ( rightChild  leaf  )  )  ( rightChild 18<40 ( leftChild  leaf  )  ( rightChild  leaf  )  )  )  )  ( rightChild 43<7 ( leftChild 52<10 ( leftChild 26<2 ( leftChild  leaf  )  ( rightChild  leaf  )  )  ( rightChild  leaf  )  )  ( rightChild  leaf  )  )  )  ( rightChild 25<6 ( leftChild 28<17 ( leftChild 52<6 ( leftChild 43<3 ( leftChild  leaf  )  ( rightChild  leaf  )  )  ( rightChild 41<16 ( leftChild  leaf  )  ( rightChild  leaf  )  )  )  ( rightChild  leaf  )  )  ( rightChild 17<41 ( leftChild  leaf  )  ( rightChild 20<10 ( leftChild  leaf  )  ( rightChild 26<19 ( leftChild  leaf  )  ( rightChild  leaf  )  )  )  )  ) \n",
      "\n",
      "1\t7\t4<10 ( leftChild 22<12 ( leftChild 24<1 ( leftChild 8<14 ( leftChild 23<5 ( leftChild  leaf  )  ( rightChild  leaf  )  )  ( rightChild 11<30 ( leftChild  leaf  )  ( rightChild  leaf  )  )  )  ( rightChild 15<69 ( leftChild 56<228050 ( leftChild  leaf  )  ( rightChild  leaf  )  )  ( rightChild 18<40 ( leftChild  leaf  )  ( rightChild  leaf  )  )  )  )  ( rightChild 43<7 ( leftChild 52<10 ( leftChild 26<2 ( leftChild  leaf  )  ( rightChild  leaf  )  )  ( rightChild  leaf  )  )  ( rightChild  leaf  )  )  )  ( rightChild 25<6 ( leftChild 28<17 ( leftChild 52<6 ( leftChild 43<3 ( leftChild  leaf  )  ( rightChild  leaf  )  )  ( rightChild 41<16 ( leftChild  leaf  )  ( rightChild  leaf  )  )  )  ( rightChild  leaf  )  )  ( rightChild 17<41 ( leftChild  leaf  )  ( rightChild 20<10 ( leftChild  leaf  )  ( rightChild 26<19 ( leftChild  leaf  )  ( rightChild  leaf  )  )  )  )  ) \n",
      "\n",
      "1\t8\t4<10 ( leftChild 22<12 ( leftChild 24<1 ( leftChild 8<14 ( leftChild 23<5 ( leftChild  leaf  )  ( rightChild  leaf  )  )  ( rightChild 11<30 ( leftChild  leaf  )  ( rightChild  leaf  )  )  )  ( rightChild 15<69 ( leftChild 56<228050 ( leftChild  leaf  )  ( rightChild  leaf  )  )  ( rightChild 18<40 ( leftChild  leaf  )  ( rightChild  leaf  )  )  )  )  ( rightChild 43<7 ( leftChild 52<10 ( leftChild 26<2 ( leftChild  leaf  )  ( rightChild  leaf  )  )  ( rightChild  leaf  )  )  ( rightChild  leaf  )  )  )  ( rightChild 25<6 ( leftChild 28<17 ( leftChild 52<6 ( leftChild 43<3 ( leftChild  leaf  )  ( rightChild  leaf  )  )  ( rightChild 41<16 ( leftChild  leaf  )  ( rightChild  leaf  )  )  )  ( rightChild  leaf  )  )  ( rightChild 17<41 ( leftChild  leaf  )  ( rightChild 20<10 ( leftChild  leaf  )  ( rightChild 26<19 ( leftChild  leaf  )  ( rightChild  leaf  )  )  )  )  ) \n",
      "\n",
      "1\t9\t4<10 ( leftChild 22<12 ( leftChild 24<1 ( leftChild 8<14 ( leftChild 23<5 ( leftChild  leaf  )  ( rightChild  leaf  )  )  ( rightChild 11<30 ( leftChild  leaf  )  ( rightChild  leaf  )  )  )  ( rightChild 15<69 ( leftChild 56<228050 ( leftChild  leaf  )  ( rightChild  leaf  )  )  ( rightChild 18<40 ( leftChild  leaf  )  ( rightChild  leaf  )  )  )  )  ( rightChild 43<7 ( leftChild 52<10 ( leftChild 26<2 ( leftChild  leaf  )  ( rightChild  leaf  )  )  ( rightChild  leaf  )  )  ( rightChild  leaf  )  )  )  ( rightChild 25<6 ( leftChild 28<17 ( leftChild 52<6 ( leftChild 43<3 ( leftChild  leaf  )  ( rightChild  leaf  )  )  ( rightChild 41<16 ( leftChild  leaf  )  ( rightChild  leaf  )  )  )  ( rightChild  leaf  )  )  ( rightChild 17<41 ( leftChild  leaf  )  ( rightChild 20<10 ( leftChild  leaf  )  ( rightChild 26<19 ( leftChild  leaf  )  ( rightChild  leaf  )  )  )  )  ) \n",
      "\n",
      "1\t10\t4<10 ( leftChild 22<12 ( leftChild 24<1 ( leftChild 8<14 ( leftChild 23<5 ( leftChild  leaf  )  ( rightChild  leaf  )  )  ( rightChild 11<30 ( leftChild  leaf  )  ( rightChild  leaf  )  )  )  ( rightChild 15<69 ( leftChild 56<228050 ( leftChild  leaf  )  ( rightChild  leaf  )  )  ( rightChild 18<40 ( leftChild  leaf  )  ( rightChild  leaf  )  )  )  )  ( rightChild 43<7 ( leftChild 52<10 ( leftChild 26<2 ( leftChild  leaf  )  ( rightChild  leaf  )  )  ( rightChild  leaf  )  )  ( rightChild  leaf  )  )  )  ( rightChild 25<6 ( leftChild 28<17 ( leftChild 52<6 ( leftChild 43<3 ( leftChild  leaf  )  ( rightChild  leaf  )  )  ( rightChild 41<16 ( leftChild  leaf  )  ( rightChild  leaf  )  )  )  ( rightChild  leaf  )  )  ( rightChild 17<41 ( leftChild  leaf  )  ( rightChild 20<10 ( leftChild  leaf  )  ( rightChild 26<19 ( leftChild  leaf  )  ( rightChild  leaf  )  )  )  )  ) \n",
      "\n",
      "1\t11\t4<10 ( leftChild 22<12 ( leftChild 24<1 ( leftChild 8<14 ( leftChild 23<5 ( leftChild  leaf  )  ( rightChild  leaf  )  )  ( rightChild 11<30 ( leftChild  leaf  )  ( rightChild  leaf  )  )  )  ( rightChild 15<69 ( leftChild 56<228050 ( leftChild  leaf  )  ( rightChild  leaf  )  )  ( rightChild 18<40 ( leftChild  leaf  )  ( rightChild  leaf  )  )  )  )  ( rightChild 43<7 ( leftChild 52<10 ( leftChild 26<2 ( leftChild  leaf  )  ( rightChild  leaf  )  )  ( rightChild  leaf  )  )  ( rightChild  leaf  )  )  )  ( rightChild 25<6 ( leftChild 28<17 ( leftChild 52<6 ( leftChild 43<3 ( leftChild  leaf  )  ( rightChild  leaf  )  )  ( rightChild 41<16 ( leftChild  leaf  )  ( rightChild  leaf  )  )  )  ( rightChild  leaf  )  )  ( rightChild 17<41 ( leftChild  leaf  )  ( rightChild 20<10 ( leftChild  leaf  )  ( rightChild 26<19 ( leftChild  leaf  )  ( rightChild  leaf  )  )  )  )  ) \n",
      "\n",
      "1\t12\t4<10 ( leftChild 22<12 ( leftChild 24<1 ( leftChild 8<14 ( leftChild 23<5 ( leftChild  leaf  )  ( rightChild  leaf  )  )  ( rightChild 11<30 ( leftChild  leaf  )  ( rightChild  leaf  )  )  )  ( rightChild 15<69 ( leftChild 56<228050 ( leftChild  leaf  )  ( rightChild  leaf  )  )  ( rightChild 18<40 ( leftChild  leaf  )  ( rightChild  leaf  )  )  )  )  ( rightChild 43<7 ( leftChild 52<10 ( leftChild 26<2 ( leftChild  leaf  )  ( rightChild  leaf  )  )  ( rightChild  leaf  )  )  ( rightChild  leaf  )  )  )  ( rightChild 25<6 ( leftChild 28<17 ( leftChild 52<6 ( leftChild 43<3 ( leftChild  leaf  )  ( rightChild  leaf  )  )  ( rightChild 41<16 ( leftChild  leaf  )  ( rightChild  leaf  )  )  )  ( rightChild  leaf  )  )  ( rightChild 17<41 ( leftChild  leaf  )  ( rightChild 20<10 ( leftChild  leaf  )  ( rightChild 26<19 ( leftChild  leaf  )  ( rightChild  leaf  )  )  )  )  ) \n",
      "\n",
      "1\t13\t4<10 ( leftChild 22<12 ( leftChild 24<1 ( leftChild 8<14 ( leftChild 23<5 ( leftChild  leaf  )  ( rightChild  leaf  )  )  ( rightChild 11<30 ( leftChild  leaf  )  ( rightChild  leaf  )  )  )  ( rightChild 15<69 ( leftChild 56<228050 ( leftChild  leaf  )  ( rightChild  leaf  )  )  ( rightChild 18<40 ( leftChild  leaf  )  ( rightChild  leaf  )  )  )  )  ( rightChild 43<7 ( leftChild 52<10 ( leftChild 26<2 ( leftChild  leaf  )  ( rightChild  leaf  )  )  ( rightChild  leaf  )  )  ( rightChild  leaf  )  )  )  ( rightChild 25<6 ( leftChild 28<17 ( leftChild 52<6 ( leftChild 43<3 ( leftChild  leaf  )  ( rightChild  leaf  )  )  ( rightChild 41<16 ( leftChild  leaf  )  ( rightChild  leaf  )  )  )  ( rightChild  leaf  )  )  ( rightChild 17<41 ( leftChild  leaf  )  ( rightChild 20<10 ( leftChild  leaf  )  ( rightChild 26<19 ( leftChild  leaf  )  ( rightChild  leaf  )  )  )  )  ) \n",
      "\n",
      "1\t14\t4<10 ( leftChild 22<12 ( leftChild 24<1 ( leftChild 8<14 ( leftChild 23<5 ( leftChild  leaf  )  ( rightChild  leaf  )  )  ( rightChild 11<30 ( leftChild  leaf  )  ( rightChild  leaf  )  )  )  ( rightChild 15<69 ( leftChild 56<228050 ( leftChild  leaf  )  ( rightChild  leaf  )  )  ( rightChild 18<40 ( leftChild  leaf  )  ( rightChild  leaf  )  )  )  )  ( rightChild 43<7 ( leftChild 52<10 ( leftChild 26<2 ( leftChild  leaf  )  ( rightChild  leaf  )  )  ( rightChild  leaf  )  )  ( rightChild  leaf  )  )  )  ( rightChild 25<6 ( leftChild 28<17 ( leftChild 52<6 ( leftChild 43<3 ( leftChild  leaf  )  ( rightChild  leaf  )  )  ( rightChild 41<16 ( leftChild  leaf  )  ( rightChild  leaf  )  )  )  ( rightChild  leaf  )  )  ( rightChild 17<41 ( leftChild  leaf  )  ( rightChild 20<10 ( leftChild  leaf  )  ( rightChild 26<19 ( leftChild  leaf  )  ( rightChild  leaf  )  )  )  )  ) \n",
      "\n",
      "1\t15\t4<10 ( leftChild 22<12 ( leftChild 24<1 ( leftChild 8<14 ( leftChild 23<5 ( leftChild  leaf  )  ( rightChild  leaf  )  )  ( rightChild 11<30 ( leftChild  leaf  )  ( rightChild  leaf  )  )  )  ( rightChild 15<69 ( leftChild 56<228050 ( leftChild  leaf  )  ( rightChild  leaf  )  )  ( rightChild 18<40 ( leftChild  leaf  )  ( rightChild  leaf  )  )  )  )  ( rightChild 43<7 ( leftChild 52<10 ( leftChild 26<2 ( leftChild  leaf  )  ( rightChild  leaf  )  )  ( rightChild  leaf  )  )  ( rightChild  leaf  )  )  )  ( rightChild 25<6 ( leftChild 28<17 ( leftChild 52<6 ( leftChild 43<3 ( leftChild  leaf  )  ( rightChild  leaf  )  )  ( rightChild 41<16 ( leftChild  leaf  )  ( rightChild  leaf  )  )  )  ( rightChild  leaf  )  )  ( rightChild 17<41 ( leftChild  leaf  )  ( rightChild 20<10 ( leftChild  leaf  )  ( rightChild 26<19 ( leftChild  leaf  )  ( rightChild  leaf  )  )  )  )  ) \n",
      "\n",
      "1\t16\t4<10 ( leftChild 22<12 ( leftChild 24<1 ( leftChild 8<14 ( leftChild 23<5 ( leftChild  leaf  )  ( rightChild  leaf  )  )  ( rightChild 11<30 ( leftChild  leaf  )  ( rightChild  leaf  )  )  )  ( rightChild 15<69 ( leftChild 56<228050 ( leftChild  leaf  )  ( rightChild  leaf  )  )  ( rightChild 18<40 ( leftChild  leaf  )  ( rightChild  leaf  )  )  )  )  ( rightChild 43<7 ( leftChild 52<10 ( leftChild 26<2 ( leftChild  leaf  )  ( rightChild  leaf  )  )  ( rightChild  leaf  )  )  ( rightChild  leaf  )  )  )  ( rightChild 25<6 ( leftChild 28<17 ( leftChild 52<6 ( leftChild 43<3 ( leftChild  leaf  )  ( rightChild  leaf  )  )  ( rightChild 41<16 ( leftChild  leaf  )  ( rightChild  leaf  )  )  )  ( rightChild  leaf  )  )  ( rightChild 17<41 ( leftChild  leaf  )  ( rightChild 20<10 ( leftChild  leaf  )  ( rightChild 26<19 ( leftChild  leaf  )  ( rightChild  leaf  )  )  )  )  ) \n",
      "\n",
      "1\t17\t4<10 ( leftChild 22<12 ( leftChild 24<1 ( leftChild 8<14 ( leftChild 23<5 ( leftChild  leaf  )  ( rightChild  leaf  )  )  ( rightChild 11<30 ( leftChild  leaf  )  ( rightChild  leaf  )  )  )  ( rightChild 15<69 ( leftChild 56<228050 ( leftChild  leaf  )  ( rightChild  leaf  )  )  ( rightChild 18<40 ( leftChild  leaf  )  ( rightChild  leaf  )  )  )  )  ( rightChild 43<7 ( leftChild 52<10 ( leftChild 26<2 ( leftChild  leaf  )  ( rightChild  leaf  )  )  ( rightChild  leaf  )  )  ( rightChild  leaf  )  )  )  ( rightChild 25<6 ( leftChild 28<17 ( leftChild 52<6 ( leftChild 43<3 ( leftChild  leaf  )  ( rightChild  leaf  )  )  ( rightChild 41<16 ( leftChild  leaf  )  ( rightChild  leaf  )  )  )  ( rightChild  leaf  )  )  ( rightChild 17<41 ( leftChild  leaf  )  ( rightChild 20<10 ( leftChild  leaf  )  ( rightChild 26<19 ( leftChild  leaf  )  ( rightChild  leaf  )  )  )  )  ) \n",
      "\n",
      "1\t18\t4<10 ( leftChild 22<12 ( leftChild 24<1 ( leftChild 8<14 ( leftChild 23<5 ( leftChild  leaf  )  ( rightChild  leaf  )  )  ( rightChild 11<30 ( leftChild  leaf  )  ( rightChild  leaf  )  )  )  ( rightChild 15<69 ( leftChild 56<228050 ( leftChild  leaf  )  ( rightChild  leaf  )  )  ( rightChild 18<40 ( leftChild  leaf  )  ( rightChild  leaf  )  )  )  )  ( rightChild 43<7 ( leftChild 52<10 ( leftChild 26<2 ( leftChild  leaf  )  ( rightChild  leaf  )  )  ( rightChild  leaf  )  )  ( rightChild  leaf  )  )  )  ( rightChild 25<6 ( leftChild 28<17 ( leftChild 52<6 ( leftChild 43<3 ( leftChild  leaf  )  ( rightChild  leaf  )  )  ( rightChild 41<16 ( leftChild  leaf  )  ( rightChild  leaf  )  )  )  ( rightChild  leaf  )  )  ( rightChild 17<41 ( leftChild  leaf  )  ( rightChild 20<10 ( leftChild  leaf  )  ( rightChild 26<19 ( leftChild  leaf  )  ( rightChild  leaf  )  )  )  )  ) \n",
      "\n",
      "1\t19\t4<10 ( leftChild 22<12 ( leftChild 24<1 ( leftChild 8<14 ( leftChild 23<5 ( leftChild  leaf  )  ( rightChild  leaf  )  )  ( rightChild 11<30 ( leftChild  leaf  )  ( rightChild  leaf  )  )  )  ( rightChild 15<69 ( leftChild 56<228050 ( leftChild  leaf  )  ( rightChild  leaf  )  )  ( rightChild 18<40 ( leftChild  leaf  )  ( rightChild  leaf  )  )  )  )  ( rightChild 43<7 ( leftChild 52<10 ( leftChild 26<2 ( leftChild  leaf  )  ( rightChild  leaf  )  )  ( rightChild  leaf  )  )  ( rightChild  leaf  )  )  )  ( rightChild 25<6 ( leftChild 28<17 ( leftChild 52<6 ( leftChild 43<3 ( leftChild  leaf  )  ( rightChild  leaf  )  )  ( rightChild 41<16 ( leftChild  leaf  )  ( rightChild  leaf  )  )  )  ( rightChild  leaf  )  )  ( rightChild 17<41 ( leftChild  leaf  )  ( rightChild 20<10 ( leftChild  leaf  )  ( rightChild 26<19 ( leftChild  leaf  )  ( rightChild  leaf  )  )  )  )  ) \n",
      "\n",
      "1\t20\t4<10 ( leftChild 22<12 ( leftChild 24<1 ( leftChild 8<14 ( leftChild 23<5 ( leftChild  leaf  )  ( rightChild  leaf  )  )  ( rightChild 11<30 ( leftChild  leaf  )  ( rightChild  leaf  )  )  )  ( rightChild 15<69 ( leftChild 56<228050 ( leftChild  leaf  )  ( rightChild  leaf  )  )  ( rightChild 18<40 ( leftChild  leaf  )  ( rightChild  leaf  )  )  )  )  ( rightChild 43<7 ( leftChild 52<10 ( leftChild 26<2 ( leftChild  leaf  )  ( rightChild  leaf  )  )  ( rightChild  leaf  )  )  ( rightChild  leaf  )  )  )  ( rightChild 25<6 ( leftChild 28<17 ( leftChild 52<6 ( leftChild 43<3 ( leftChild  leaf  )  ( rightChild  leaf  )  )  ( rightChild 41<16 ( leftChild  leaf  )  ( rightChild  leaf  )  )  )  ( rightChild  leaf  )  )  ( rightChild 17<41 ( leftChild  leaf  )  ( rightChild 20<10 ( leftChild  leaf  )  ( rightChild 26<19 ( leftChild  leaf  )  ( rightChild  leaf  )  )  )  )  ) \n",
      "\n",
      "1\t21\t4<10 ( leftChild 22<12 ( leftChild 24<1 ( leftChild 8<14 ( leftChild 23<5 ( leftChild  leaf  )  ( rightChild  leaf  )  )  ( rightChild 11<30 ( leftChild  leaf  )  ( rightChild  leaf  )  )  )  ( rightChild 15<69 ( leftChild 56<228050 ( leftChild  leaf  )  ( rightChild  leaf  )  )  ( rightChild 18<40 ( leftChild  leaf  )  ( rightChild  leaf  )  )  )  )  ( rightChild 43<7 ( leftChild 52<10 ( leftChild 26<2 ( leftChild  leaf  )  ( rightChild  leaf  )  )  ( rightChild  leaf  )  )  ( rightChild  leaf  )  )  )  ( rightChild 25<6 ( leftChild 28<17 ( leftChild 52<6 ( leftChild 43<3 ( leftChild  leaf  )  ( rightChild  leaf  )  )  ( rightChild 41<16 ( leftChild  leaf  )  ( rightChild  leaf  )  )  )  ( rightChild  leaf  )  )  ( rightChild 17<41 ( leftChild  leaf  )  ( rightChild 20<10 ( leftChild  leaf  )  ( rightChild 26<19 ( leftChild  leaf  )  ( rightChild  leaf  )  )  )  )  ) \n",
      "\n",
      "1\t22\t4<10 ( leftChild 22<12 ( leftChild 24<1 ( leftChild 8<14 ( leftChild 23<5 ( leftChild  leaf  )  ( rightChild  leaf  )  )  ( rightChild 11<30 ( leftChild  leaf  )  ( rightChild  leaf  )  )  )  ( rightChild 15<69 ( leftChild 56<228050 ( leftChild  leaf  )  ( rightChild  leaf  )  )  ( rightChild 18<40 ( leftChild  leaf  )  ( rightChild  leaf  )  )  )  )  ( rightChild 43<7 ( leftChild 52<10 ( leftChild 26<2 ( leftChild  leaf  )  ( rightChild  leaf  )  )  ( rightChild  leaf  )  )  ( rightChild  leaf  )  )  )  ( rightChild 25<6 ( leftChild 28<17 ( leftChild 52<6 ( leftChild 43<3 ( leftChild  leaf  )  ( rightChild  leaf  )  )  ( rightChild 41<16 ( leftChild  leaf  )  ( rightChild  leaf  )  )  )  ( rightChild  leaf  )  )  ( rightChild 17<41 ( leftChild  leaf  )  ( rightChild 20<10 ( leftChild  leaf  )  ( rightChild 26<19 ( leftChild  leaf  )  ( rightChild  leaf  )  )  )  )  ) \n",
      "\n",
      "1\t23\t4<10 ( leftChild 22<12 ( leftChild 24<1 ( leftChild 8<14 ( leftChild 23<5 ( leftChild  leaf  )  ( rightChild  leaf  )  )  ( rightChild 11<30 ( leftChild  leaf  )  ( rightChild  leaf  )  )  )  ( rightChild 15<69 ( leftChild 56<228050 ( leftChild  leaf  )  ( rightChild  leaf  )  )  ( rightChild 18<40 ( leftChild  leaf  )  ( rightChild  leaf  )  )  )  )  ( rightChild 43<7 ( leftChild 52<10 ( leftChild 26<2 ( leftChild  leaf  )  ( rightChild  leaf  )  )  ( rightChild  leaf  )  )  ( rightChild  leaf  )  )  )  ( rightChild 25<6 ( leftChild 28<17 ( leftChild 52<6 ( leftChild 43<3 ( leftChild  leaf  )  ( rightChild  leaf  )  )  ( rightChild 41<16 ( leftChild  leaf  )  ( rightChild  leaf  )  )  )  ( rightChild  leaf  )  )  ( rightChild 17<41 ( leftChild  leaf  )  ( rightChild 20<10 ( leftChild  leaf  )  ( rightChild 26<19 ( leftChild  leaf  )  ( rightChild  leaf  )  )  )  )  ) \n",
      "\n",
      "1\t24\t4<10 ( leftChild 22<12 ( leftChild 24<1 ( leftChild 8<14 ( leftChild 23<5 ( leftChild  leaf  )  ( rightChild  leaf  )  )  ( rightChild 11<30 ( leftChild  leaf  )  ( rightChild  leaf  )  )  )  ( rightChild 15<69 ( leftChild 56<228050 ( leftChild  leaf  )  ( rightChild  leaf  )  )  ( rightChild 18<40 ( leftChild  leaf  )  ( rightChild  leaf  )  )  )  )  ( rightChild 43<7 ( leftChild 52<10 ( leftChild 26<2 ( leftChild  leaf  )  ( rightChild  leaf  )  )  ( rightChild  leaf  )  )  ( rightChild  leaf  )  )  )  ( rightChild 25<6 ( leftChild 28<17 ( leftChild 52<6 ( leftChild 43<3 ( leftChild  leaf  )  ( rightChild  leaf  )  )  ( rightChild 41<16 ( leftChild  leaf  )  ( rightChild  leaf  )  )  )  ( rightChild  leaf  )  )  ( rightChild 17<41 ( leftChild  leaf  )  ( rightChild 20<10 ( leftChild  leaf  )  ( rightChild 26<19 ( leftChild  leaf  )  ( rightChild  leaf  )  )  )  )  ) \n",
      "\n",
      "1\t25\t4<10 ( leftChild 22<12 ( leftChild 24<1 ( leftChild 8<14 ( leftChild 23<5 ( leftChild  leaf  )  ( rightChild  leaf  )  )  ( rightChild 11<30 ( leftChild  leaf  )  ( rightChild  leaf  )  )  )  ( rightChild 15<69 ( leftChild 56<228050 ( leftChild  leaf  )  ( rightChild  leaf  )  )  ( rightChild 18<40 ( leftChild  leaf  )  ( rightChild  leaf  )  )  )  )  ( rightChild 43<7 ( leftChild 52<10 ( leftChild 26<2 ( leftChild  leaf  )  ( rightChild  leaf  )  )  ( rightChild  leaf  )  )  ( rightChild  leaf  )  )  )  ( rightChild 25<6 ( leftChild 28<17 ( leftChild 52<6 ( leftChild 43<3 ( leftChild  leaf  )  ( rightChild  leaf  )  )  ( rightChild 41<16 ( leftChild  leaf  )  ( rightChild  leaf  )  )  )  ( rightChild  leaf  )  )  ( rightChild 17<41 ( leftChild  leaf  )  ( rightChild 20<10 ( leftChild  leaf  )  ( rightChild 26<19 ( leftChild  leaf  )  ( rightChild  leaf  )  )  )  )  ) \n",
      "\n"
     ]
    }
   ],
   "source": [
    "import json\n",
    "\n",
    "dataset = \"spambase\"\n",
    "variant = \"NoLeafEdges\"\n",
    "pattern_max_size = 6\n",
    "jsonPath = \"/home/falkhoury/Study/Lab/Project/frequentTreesInRandomForests/arch-forest/data\"\n",
    "patternsPath = \"/home/falkhoury/Study/Lab/Project/frequentTreesInRandomForests/InferenceComparison\"\n",
    "patternList=[]\n",
    "\n",
    "def iterate(d,patternText):\n",
    "    \n",
    "   patternText = ''\n",
    "   #print(patternText)\n",
    "   for k,v in d.items():\n",
    "    if (k == 'feature'):\n",
    "        patternText += str(v)+'<'\n",
    "        \n",
    "    if (k == 'split'):\n",
    "        patternText += str(v)\n",
    "        \n",
    "    if (k == 'leftChild'):\n",
    "        patternText += ' ( leftChild '\n",
    "        patternText+= iterate(d['leftChild'],patternText)\n",
    "        patternText+= ' ) '\n",
    "        \n",
    "    if (k == 'rightChild'):\n",
    "        patternText += ' ( rightChild '\n",
    "        patternText+= iterate(d['rightChild'],patternText)\n",
    "        patternText+= ' ) '\n",
    "        \n",
    "    if (k == 'prediction'):\n",
    "        patternText += ' leaf '    \n",
    "        \n",
    "        \n",
    "   return patternText\n",
    "                 \n",
    "            \n",
    "with open(jsonPath+'/'+dataset+'/text/'+'RF_5.json') as json_file:\n",
    "         data = json.load(json_file)\n",
    "         \n",
    "         \n",
    "         for tree in range(0,len(data)):\n",
    "                \n",
    "             patternText = ''\n",
    "             patternText = iterate(data[0],patternText)\n",
    "             patternText='1\\t'+str(tree+1)+'\\t'+patternText+'\\n'               \n",
    "             patternList.append(patternText)\n",
    "            \n",
    "json_file.close()\n",
    "for pattern in patternList:\n",
    "    print(pattern)\n",
    "    \n",
    "f= open(patternsPath+'/'+dataset+'/'+'RF_5.patterns',\"w\")\n",
    "for pattern in patternList:\n",
    "        f.write(pattern)\n",
    "f.close()    \n"
   ]
  },
  {
   "cell_type": "code",
   "execution_count": 54,
   "metadata": {},
   "outputs": [
    {
     "ename": "SyntaxError",
     "evalue": "invalid syntax (<ipython-input-54-463b1742bbe2>, line 2)",
     "output_type": "error",
     "traceback": [
      "\u001b[0;36m  File \u001b[0;32m\"<ipython-input-54-463b1742bbe2>\"\u001b[0;36m, line \u001b[0;32m2\u001b[0m\n\u001b[0;31m    ^((?!PART).)*$/()\u001b[0m\n\u001b[0m    ^\u001b[0m\n\u001b[0;31mSyntaxError\u001b[0m\u001b[0;31m:\u001b[0m invalid syntax\n"
     ]
    }
   ],
   "source": [
    "import re\n",
    "/^((?!PART).)*$/\n",
    "s = '[{\"id\":0,\"numSamples\":3108,\"probLeft\":0.6032818532818532,\"probRight\":0.3967181467181467,\"isCategorical\":\"False\",\"feature\":10,\"split\":10.649999618530273,\"leftChild\":{\"id\":1,\"numSamples\":1875,\"probLeft\":0.34026666666666666,\"probRight\":0.6597333333333333,\"isCategorical\":\"False\",\"feature\":2,\"split\":0.26499998569488525,\"leftChild\":'\n",
    "s1 = re.sub('{\"id\"/^((?!feature).)*$/\":', '', s)\n",
    "s2 = re.sub(',\"split\":', '<', s1)\n",
    "s3 = re.sub(',\"leftChild\":', ' ( leftChild ', s2)\n",
    "print(s3)"
   ]
  },
  {
   "cell_type": "code",
   "execution_count": 55,
   "metadata": {},
   "outputs": [
    {
     "name": "stdout",
     "output_type": "stream",
     "text": [
      "3 : 4\n",
      "5 : 6\n",
      "4 : 5\n",
      "6 : 7\n",
      "4 : 5\n",
      "6 : 7\n"
     ]
    }
   ],
   "source": [
    "def iterdict(d):\n",
    "  for k,v in d.items():        \n",
    "     if isinstance(v, dict):\n",
    "         iterdict(v)\n",
    "     else:            \n",
    "         print (k,\":\",v)\n",
    "\n",
    "D1={1: {2: {3: 4, 5: 6}, 3: {4: 5, 6: 7}}, 2: {3: {4: 5}, 4: {6: 7}}}\n",
    "            \n",
    "iterdict(D1)"
   ]
  },
  {
   "cell_type": "code",
   "execution_count": null,
   "metadata": {},
   "outputs": [],
   "source": []
  }
 ],
 "metadata": {
  "kernelspec": {
   "display_name": "Python 3",
   "language": "python",
   "name": "python3"
  },
  "language_info": {
   "codemirror_mode": {
    "name": "ipython",
    "version": 3
   },
   "file_extension": ".py",
   "mimetype": "text/x-python",
   "name": "python",
   "nbconvert_exporter": "python",
   "pygments_lexer": "ipython3",
   "version": "3.7.5"
  }
 },
 "nbformat": 4,
 "nbformat_minor": 2
}
