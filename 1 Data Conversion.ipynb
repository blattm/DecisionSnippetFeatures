{
 "cells": [
  {
   "cell_type": "markdown",
   "metadata": {},
   "source": [
    "# Frequent Subtree Counting in Random Forests\n",
    "\n",
    "The goal of this project is to compress the generated source code of decision tree classifiers on embedded devices.\n",
    "Therefore, as a first step, we investigate for several trained random forests, whether they have certain frequent subtrees in common.\n",
    "Such subtrees might be implemented by a function which is called several times in the corresponding places of the decision trees. \n",
    "This can decrease the code size of the generated embedded-c source files and executables.\n",
    "\n",
    "## Datasets\n",
    "There are several datasets.\n",
    "At the moment, however, I'll experiment only with 'adult' and 'wine-quality'.\n",
    "The data are given as json files of the following names:"
   ]
  },
  {
   "cell_type": "code",
   "execution_count": 1,
   "metadata": {},
   "outputs": [
    {
     "name": "stdout",
     "output_type": "stream",
     "text": [
      "forests/adult/text/DT_10.json\r\n",
      "forests/adult/text/DT_15.json\r\n",
      "forests/adult/text/DT_1.json\r\n",
      "forests/adult/text/DT_20.json\r\n",
      "forests/adult/text/DT_5.json\r\n",
      "forests/adult/text/ET_10.json\r\n",
      "forests/adult/text/ET_15.json\r\n",
      "forests/adult/text/ET_1.json\r\n",
      "forests/adult/text/ET_20.json\r\n",
      "forests/adult/text/ET_5.json\r\n",
      "forests/adult/text/RF_10.json\r\n",
      "forests/adult/text/RF_15.json\r\n",
      "forests/adult/text/RF_1.json\r\n",
      "forests/adult/text/RF_20.json\r\n",
      "forests/adult/text/RF_5.json\r\n",
      "forests/satlog/text/RF_10.json\r\n",
      "forests/satlog/text/RF_10_pruned_with_sigma_0_0.json\r\n",
      "forests/satlog/text/RF_10_pruned_with_sigma_0_1.json\r\n",
      "forests/satlog/text/RF_10_pruned_with_sigma_0_2.json\r\n",
      "forests/satlog/text/RF_10_pruned_with_sigma_0_3.json\r\n",
      "forests/satlog/text/RF_15.json\r\n",
      "forests/satlog/text/RF_15_pruned_with_sigma_0_0.json\r\n",
      "forests/satlog/text/RF_15_pruned_with_sigma_0_1.json\r\n",
      "forests/satlog/text/RF_15_pruned_with_sigma_0_2.json\r\n",
      "forests/satlog/text/RF_15_pruned_with_sigma_0_3.json\r\n",
      "forests/satlog/text/RF_20.json\r\n",
      "forests/satlog/text/RF_20_pruned_with_sigma_0_0.json\r\n",
      "forests/satlog/text/RF_20_pruned_with_sigma_0_1.json\r\n",
      "forests/satlog/text/RF_20_pruned_with_sigma_0_2.json\r\n",
      "forests/satlog/text/RF_20_pruned_with_sigma_0_3.json\r\n",
      "forests/satlog/text/RF_5.json\r\n",
      "forests/satlog/text/RF_5_pruned_with_sigma_0_0.json\r\n",
      "forests/satlog/text/RF_5_pruned_with_sigma_0_1.json\r\n",
      "forests/satlog/text/RF_5_pruned_with_sigma_0_2.json\r\n",
      "forests/satlog/text/RF_5_pruned_with_sigma_0_3.json\r\n",
      "forests/spambase/text/RF_10.json\r\n",
      "forests/spambase/text/RF_10_pruned_with_sigma_0_0.json\r\n",
      "forests/spambase/text/RF_10_pruned_with_sigma_0_1.json\r\n",
      "forests/spambase/text/RF_10_pruned_with_sigma_0_2.json\r\n",
      "forests/spambase/text/RF_10_pruned_with_sigma_0_3.json\r\n",
      "forests/spambase/text/RF_15.json\r\n",
      "forests/spambase/text/RF_15_pruned_with_sigma_0_0.json\r\n",
      "forests/spambase/text/RF_15_pruned_with_sigma_0_1.json\r\n",
      "forests/spambase/text/RF_15_pruned_with_sigma_0_2.json\r\n",
      "forests/spambase/text/RF_15_pruned_with_sigma_0_3.json\r\n",
      "forests/spambase/text/RF_20.json\r\n",
      "forests/spambase/text/RF_20_pruned_with_sigma_0_0.json\r\n",
      "forests/spambase/text/RF_20_pruned_with_sigma_0_1.json\r\n",
      "forests/spambase/text/RF_20_pruned_with_sigma_0_2.json\r\n",
      "forests/spambase/text/RF_20_pruned_with_sigma_0_3.json\r\n",
      "forests/spambase/text/RF_5.json\r\n",
      "forests/spambase/text/RF_5_pruned_with_sigma_0_0.json\r\n",
      "forests/spambase/text/RF_5_pruned_with_sigma_0_1.json\r\n",
      "forests/spambase/text/RF_5_pruned_with_sigma_0_2.json\r\n",
      "forests/spambase/text/RF_5_pruned_with_sigma_0_3.json\r\n",
      "forests/wine-quality/text/DT_10.json\r\n",
      "forests/wine-quality/text/DT_15.json\r\n",
      "forests/wine-quality/text/DT_1.json\r\n",
      "forests/wine-quality/text/DT_20.json\r\n",
      "forests/wine-quality/text/DT_5.json\r\n",
      "forests/wine-quality/text/ET_10.json\r\n",
      "forests/wine-quality/text/ET_15.json\r\n",
      "forests/wine-quality/text/ET_1.json\r\n",
      "forests/wine-quality/text/ET_20.json\r\n",
      "forests/wine-quality/text/ET_5.json\r\n",
      "forests/wine-quality/text/RF_10.json\r\n",
      "forests/wine-quality/text/RF_15.json\r\n",
      "forests/wine-quality/text/RF_1.json\r\n",
      "forests/wine-quality/text/RF_20.json\r\n",
      "forests/wine-quality/text/RF_5.json\r\n"
     ]
    }
   ],
   "source": [
    "ls forests/*/text/*.json"
   ]
  },
  {
   "cell_type": "markdown",
   "metadata": {},
   "source": [
    "The filenames XX_n.json mean:\n",
    "- XX:\n",
    "  - DT decision tree\n",
    "  - RF random forest with 25 trees\n",
    "  - ET 'extremely random trees'\n",
    "- n: depth of the trees\n",
    "\n",
    "Each tree given here (whether as a decision tree or as a component in a random forest) is a rooted, binary, ordered tree.\n",
    "\n",
    "## Convert the Data\n",
    "\n",
    "We have written a few scripts to convert from json to the format required by the frequent subgraph mining software."
   ]
  },
  {
   "cell_type": "code",
   "execution_count": 2,
   "metadata": {},
   "outputs": [
    {
     "name": "stdout",
     "output_type": "stream",
     "text": [
      "./json2graphNoLeafEdges.py\r\n",
      "./json2graphNoLeafEdgesWithSplitValues.py\r\n",
      "./json2graphWithLeafEdges.py\r\n",
      "./json2graphWithLeafEdgesWithSplitValues.py\r\n"
     ]
    }
   ],
   "source": [
    "ls ./*.py"
   ]
  },
  {
   "cell_type": "markdown",
   "metadata": {},
   "source": [
    "See the documentation of the scripts to check what they are doing:"
   ]
  },
  {
   "cell_type": "code",
   "execution_count": 2,
   "metadata": {},
   "outputs": [
    {
     "name": "stdout",
     "output_type": "stream",
     "text": [
      "./file_splitting_into_train_and_test.py\n",
      "#!/usr/bin/env python\n",
      "\n",
      "./json2graphNoLeafEdges.py\n",
      "## This script creates a graph database from the decision trees in Sebastians json Format as follows:\n",
      "# - the root vertex of the tree has index 1 (counting starts with 1)\n",
      "# - each vertex is labeled by its split feature or by 'leaf'\n",
      "# - each edge is labeled either 'leftChild' or 'rightChild'\n",
      "# - there are no edges containing 'leaf' vertices\n",
      "#\n",
      "# It follows that the connected components resulting from a single decision tree are several isolated vertices labeled 'leaf' \n",
      "# and a tree containing all the split vertices.\n",
      "\n",
      "./json2graphNoLeafEdgesWithSplitValues.py\n",
      "## This script creates a graph database from the decision trees in Sebastians json Format as follows:\n",
      "# - the root vertex of the tree has index 1 (counting starts with 1)\n",
      "# - each vertex is labeled by its split feature or by 'leaf'\n",
      "# - each edge is labeled either 'leftChild' or 'rightChild'\n",
      "# - there are no edges containing 'leaf' vertices\n",
      "#\n",
      "# It follows that the connected components resulting from a single decision tree are several isolated vertices labeled 'leaf' \n",
      "# and a tree containing all the split vertices.\n",
      "\n",
      "./json2graphWithLeafEdges.py\n",
      "## This script creates a graph database from the decision trees in Sebastians json Format as follows:\n",
      "# - the root vertex of the tree has index 1 (counting starts with 1)\n",
      "# - each vertex is labeled by its split feature or by 'leaf'\n",
      "# - each edge is labeled either 'leftChild' or 'rightChild'\n",
      "# - for each edge in a decision tree there is an edge in the graph database\n",
      "#\n",
      "# It follows that the resulting trees in the database correspond 1-1 to the decision trees in the json.\n",
      "# However, we fiddle with the labels of the vertices and forget, e.g., the threshold on which to split.\n",
      "\n",
      "./json2graphWithLeafEdgesWithSplitValues.py\n",
      "## This script creates a graph database from the decision trees in Sebastians json Format as follows:\n",
      "# - the root vertex of the tree has index 1 (counting starts with 1)\n",
      "# - each vertex is labeled by its split feature or by 'leaf'\n",
      "# - each edge is labeled either 'leftChild' or 'rightChild'\n",
      "# - for each edge in a decision tree there is an edge in the graph database\n",
      "#\n",
      "# It follows that the resulting trees in the database correspond 1-1 to the decision trees in the json.\n",
      "# However, we fiddle with the labels of the vertices and forget, e.g., the threshold on which to split.\n",
      "\n"
     ]
    }
   ],
   "source": [
    "%%bash\n",
    "for f in ./*.py; do\n",
    "    echo ${f}\n",
    "    grep '^#' < ${f}\n",
    "    echo\n",
    "done"
   ]
  },
  {
   "cell_type": "code",
   "execution_count": 3,
   "metadata": {},
   "outputs": [
    {
     "name": "stderr",
     "output_type": "stream",
     "text": [
      "mkdir: cannot create directory ‘forests/spambase/WithLeafEdges/’: File exists\n",
      "mkdir: cannot create directory ‘forests/spambase/NoLeafEdges/’: File exists\n",
      "mkdir: cannot create directory ‘forests/satlog/WithLeafEdges/’: File exists\n",
      "mkdir: cannot create directory ‘forests/satlog/NoLeafEdges/’: File exists\n"
     ]
    },
    {
     "ename": "CalledProcessError",
     "evalue": "Command 'b'mkdir forests/spambase/WithLeafEdges/\\nmkdir forests/spambase/NoLeafEdges/\\n\\nmkdir forests/satlog/WithLeafEdges/\\nmkdir forests/satlog/NoLeafEdges/\\n'' returned non-zero exit status 1.",
     "output_type": "error",
     "traceback": [
      "\u001b[0;31m---------------------------------------------------------------------------\u001b[0m",
      "\u001b[0;31mCalledProcessError\u001b[0m                        Traceback (most recent call last)",
      "\u001b[0;32m<ipython-input-3-d295a2ba3872>\u001b[0m in \u001b[0;36m<module>\u001b[0;34m\u001b[0m\n\u001b[0;32m----> 1\u001b[0;31m \u001b[0mget_ipython\u001b[0m\u001b[0;34m(\u001b[0m\u001b[0;34m)\u001b[0m\u001b[0;34m.\u001b[0m\u001b[0mrun_cell_magic\u001b[0m\u001b[0;34m(\u001b[0m\u001b[0;34m'bash'\u001b[0m\u001b[0;34m,\u001b[0m \u001b[0;34m''\u001b[0m\u001b[0;34m,\u001b[0m \u001b[0;34m'mkdir forests/spambase/WithLeafEdges/\\nmkdir forests/spambase/NoLeafEdges/\\n\\nmkdir forests/satlog/WithLeafEdges/\\nmkdir forests/satlog/NoLeafEdges/\\n'\u001b[0m\u001b[0;34m)\u001b[0m\u001b[0;34m\u001b[0m\u001b[0;34m\u001b[0m\u001b[0m\n\u001b[0m",
      "\u001b[0;32m/home/iai/user/blatt/myconda/bigenv/lib/python3.8/site-packages/IPython/core/interactiveshell.py\u001b[0m in \u001b[0;36mrun_cell_magic\u001b[0;34m(self, magic_name, line, cell)\u001b[0m\n\u001b[1;32m   2369\u001b[0m             \u001b[0;32mwith\u001b[0m \u001b[0mself\u001b[0m\u001b[0;34m.\u001b[0m\u001b[0mbuiltin_trap\u001b[0m\u001b[0;34m:\u001b[0m\u001b[0;34m\u001b[0m\u001b[0;34m\u001b[0m\u001b[0m\n\u001b[1;32m   2370\u001b[0m                 \u001b[0margs\u001b[0m \u001b[0;34m=\u001b[0m \u001b[0;34m(\u001b[0m\u001b[0mmagic_arg_s\u001b[0m\u001b[0;34m,\u001b[0m \u001b[0mcell\u001b[0m\u001b[0;34m)\u001b[0m\u001b[0;34m\u001b[0m\u001b[0;34m\u001b[0m\u001b[0m\n\u001b[0;32m-> 2371\u001b[0;31m                 \u001b[0mresult\u001b[0m \u001b[0;34m=\u001b[0m \u001b[0mfn\u001b[0m\u001b[0;34m(\u001b[0m\u001b[0;34m*\u001b[0m\u001b[0margs\u001b[0m\u001b[0;34m,\u001b[0m \u001b[0;34m**\u001b[0m\u001b[0mkwargs\u001b[0m\u001b[0;34m)\u001b[0m\u001b[0;34m\u001b[0m\u001b[0;34m\u001b[0m\u001b[0m\n\u001b[0m\u001b[1;32m   2372\u001b[0m             \u001b[0;32mreturn\u001b[0m \u001b[0mresult\u001b[0m\u001b[0;34m\u001b[0m\u001b[0;34m\u001b[0m\u001b[0m\n\u001b[1;32m   2373\u001b[0m \u001b[0;34m\u001b[0m\u001b[0m\n",
      "\u001b[0;32m/home/iai/user/blatt/myconda/bigenv/lib/python3.8/site-packages/IPython/core/magics/script.py\u001b[0m in \u001b[0;36mnamed_script_magic\u001b[0;34m(line, cell)\u001b[0m\n\u001b[1;32m    140\u001b[0m             \u001b[0;32melse\u001b[0m\u001b[0;34m:\u001b[0m\u001b[0;34m\u001b[0m\u001b[0;34m\u001b[0m\u001b[0m\n\u001b[1;32m    141\u001b[0m                 \u001b[0mline\u001b[0m \u001b[0;34m=\u001b[0m \u001b[0mscript\u001b[0m\u001b[0;34m\u001b[0m\u001b[0;34m\u001b[0m\u001b[0m\n\u001b[0;32m--> 142\u001b[0;31m             \u001b[0;32mreturn\u001b[0m \u001b[0mself\u001b[0m\u001b[0;34m.\u001b[0m\u001b[0mshebang\u001b[0m\u001b[0;34m(\u001b[0m\u001b[0mline\u001b[0m\u001b[0;34m,\u001b[0m \u001b[0mcell\u001b[0m\u001b[0;34m)\u001b[0m\u001b[0;34m\u001b[0m\u001b[0;34m\u001b[0m\u001b[0m\n\u001b[0m\u001b[1;32m    143\u001b[0m \u001b[0;34m\u001b[0m\u001b[0m\n\u001b[1;32m    144\u001b[0m         \u001b[0;31m# write a basic docstring:\u001b[0m\u001b[0;34m\u001b[0m\u001b[0;34m\u001b[0m\u001b[0;34m\u001b[0m\u001b[0m\n",
      "\u001b[0;32m<decorator-gen-110>\u001b[0m in \u001b[0;36mshebang\u001b[0;34m(self, line, cell)\u001b[0m\n",
      "\u001b[0;32m/home/iai/user/blatt/myconda/bigenv/lib/python3.8/site-packages/IPython/core/magic.py\u001b[0m in \u001b[0;36m<lambda>\u001b[0;34m(f, *a, **k)\u001b[0m\n\u001b[1;32m    185\u001b[0m     \u001b[0;31m# but it's overkill for just that one bit of state.\u001b[0m\u001b[0;34m\u001b[0m\u001b[0;34m\u001b[0m\u001b[0;34m\u001b[0m\u001b[0m\n\u001b[1;32m    186\u001b[0m     \u001b[0;32mdef\u001b[0m \u001b[0mmagic_deco\u001b[0m\u001b[0;34m(\u001b[0m\u001b[0marg\u001b[0m\u001b[0;34m)\u001b[0m\u001b[0;34m:\u001b[0m\u001b[0;34m\u001b[0m\u001b[0;34m\u001b[0m\u001b[0m\n\u001b[0;32m--> 187\u001b[0;31m         \u001b[0mcall\u001b[0m \u001b[0;34m=\u001b[0m \u001b[0;32mlambda\u001b[0m \u001b[0mf\u001b[0m\u001b[0;34m,\u001b[0m \u001b[0;34m*\u001b[0m\u001b[0ma\u001b[0m\u001b[0;34m,\u001b[0m \u001b[0;34m**\u001b[0m\u001b[0mk\u001b[0m\u001b[0;34m:\u001b[0m \u001b[0mf\u001b[0m\u001b[0;34m(\u001b[0m\u001b[0;34m*\u001b[0m\u001b[0ma\u001b[0m\u001b[0;34m,\u001b[0m \u001b[0;34m**\u001b[0m\u001b[0mk\u001b[0m\u001b[0;34m)\u001b[0m\u001b[0;34m\u001b[0m\u001b[0;34m\u001b[0m\u001b[0m\n\u001b[0m\u001b[1;32m    188\u001b[0m \u001b[0;34m\u001b[0m\u001b[0m\n\u001b[1;32m    189\u001b[0m         \u001b[0;32mif\u001b[0m \u001b[0mcallable\u001b[0m\u001b[0;34m(\u001b[0m\u001b[0marg\u001b[0m\u001b[0;34m)\u001b[0m\u001b[0;34m:\u001b[0m\u001b[0;34m\u001b[0m\u001b[0;34m\u001b[0m\u001b[0m\n",
      "\u001b[0;32m/home/iai/user/blatt/myconda/bigenv/lib/python3.8/site-packages/IPython/core/magics/script.py\u001b[0m in \u001b[0;36mshebang\u001b[0;34m(self, line, cell)\u001b[0m\n\u001b[1;32m    243\u001b[0m             \u001b[0msys\u001b[0m\u001b[0;34m.\u001b[0m\u001b[0mstderr\u001b[0m\u001b[0;34m.\u001b[0m\u001b[0mflush\u001b[0m\u001b[0;34m(\u001b[0m\u001b[0;34m)\u001b[0m\u001b[0;34m\u001b[0m\u001b[0;34m\u001b[0m\u001b[0m\n\u001b[1;32m    244\u001b[0m         \u001b[0;32mif\u001b[0m \u001b[0margs\u001b[0m\u001b[0;34m.\u001b[0m\u001b[0mraise_error\u001b[0m \u001b[0;32mand\u001b[0m \u001b[0mp\u001b[0m\u001b[0;34m.\u001b[0m\u001b[0mreturncode\u001b[0m\u001b[0;34m!=\u001b[0m\u001b[0;36m0\u001b[0m\u001b[0;34m:\u001b[0m\u001b[0;34m\u001b[0m\u001b[0;34m\u001b[0m\u001b[0m\n\u001b[0;32m--> 245\u001b[0;31m             \u001b[0;32mraise\u001b[0m \u001b[0mCalledProcessError\u001b[0m\u001b[0;34m(\u001b[0m\u001b[0mp\u001b[0m\u001b[0;34m.\u001b[0m\u001b[0mreturncode\u001b[0m\u001b[0;34m,\u001b[0m \u001b[0mcell\u001b[0m\u001b[0;34m,\u001b[0m \u001b[0moutput\u001b[0m\u001b[0;34m=\u001b[0m\u001b[0mout\u001b[0m\u001b[0;34m,\u001b[0m \u001b[0mstderr\u001b[0m\u001b[0;34m=\u001b[0m\u001b[0merr\u001b[0m\u001b[0;34m)\u001b[0m\u001b[0;34m\u001b[0m\u001b[0;34m\u001b[0m\u001b[0m\n\u001b[0m\u001b[1;32m    246\u001b[0m \u001b[0;34m\u001b[0m\u001b[0m\n\u001b[1;32m    247\u001b[0m     \u001b[0;32mdef\u001b[0m \u001b[0m_run_script\u001b[0m\u001b[0;34m(\u001b[0m\u001b[0mself\u001b[0m\u001b[0;34m,\u001b[0m \u001b[0mp\u001b[0m\u001b[0;34m,\u001b[0m \u001b[0mcell\u001b[0m\u001b[0;34m,\u001b[0m \u001b[0mto_close\u001b[0m\u001b[0;34m)\u001b[0m\u001b[0;34m:\u001b[0m\u001b[0;34m\u001b[0m\u001b[0;34m\u001b[0m\u001b[0m\n",
      "\u001b[0;31mCalledProcessError\u001b[0m: Command 'b'mkdir forests/spambase/WithLeafEdges/\\nmkdir forests/spambase/NoLeafEdges/\\n\\nmkdir forests/satlog/WithLeafEdges/\\nmkdir forests/satlog/NoLeafEdges/\\n'' returned non-zero exit status 1."
     ]
    }
   ],
   "source": [
    "%%bash\n",
    "mkdir forests/spambase/WithLeafEdges/\n",
    "mkdir forests/spambase/NoLeafEdges/\n",
    "\n",
    "mkdir forests/satlog/WithLeafEdges/\n",
    "mkdir forests/satlog/NoLeafEdges/"
   ]
  },
  {
   "cell_type": "code",
   "execution_count": 4,
   "metadata": {},
   "outputs": [
    {
     "name": "stdout",
     "output_type": "stream",
     "text": [
      "forests/spambase/text/RF_10.json -> RF_10.graph\n",
      "forests/spambase/text/RF_10_pruned_with_sigma_0_0.json -> RF_10_pruned_with_sigma_0_0.graph\n",
      "forests/spambase/text/RF_10_pruned_with_sigma_0_1.json -> RF_10_pruned_with_sigma_0_1.graph\n",
      "forests/spambase/text/RF_10_pruned_with_sigma_0_2.json -> RF_10_pruned_with_sigma_0_2.graph\n",
      "forests/spambase/text/RF_10_pruned_with_sigma_0_3.json -> RF_10_pruned_with_sigma_0_3.graph\n",
      "forests/spambase/text/RF_15.json -> RF_15.graph\n",
      "forests/spambase/text/RF_15_pruned_with_sigma_0_0.json -> RF_15_pruned_with_sigma_0_0.graph\n",
      "forests/spambase/text/RF_15_pruned_with_sigma_0_1.json -> RF_15_pruned_with_sigma_0_1.graph\n",
      "forests/spambase/text/RF_15_pruned_with_sigma_0_2.json -> RF_15_pruned_with_sigma_0_2.graph\n",
      "forests/spambase/text/RF_15_pruned_with_sigma_0_3.json -> RF_15_pruned_with_sigma_0_3.graph\n",
      "forests/spambase/text/RF_20.json -> RF_20.graph\n",
      "forests/spambase/text/RF_20_pruned_with_sigma_0_0.json -> RF_20_pruned_with_sigma_0_0.graph\n",
      "forests/spambase/text/RF_20_pruned_with_sigma_0_1.json -> RF_20_pruned_with_sigma_0_1.graph\n",
      "forests/spambase/text/RF_20_pruned_with_sigma_0_2.json -> RF_20_pruned_with_sigma_0_2.graph\n",
      "forests/spambase/text/RF_20_pruned_with_sigma_0_3.json -> RF_20_pruned_with_sigma_0_3.graph\n",
      "forests/spambase/text/RF_5.json -> RF_5.graph\n",
      "forests/spambase/text/RF_5_pruned_with_sigma_0_0.json -> RF_5_pruned_with_sigma_0_0.graph\n",
      "forests/spambase/text/RF_5_pruned_with_sigma_0_1.json -> RF_5_pruned_with_sigma_0_1.graph\n",
      "forests/spambase/text/RF_5_pruned_with_sigma_0_2.json -> RF_5_pruned_with_sigma_0_2.graph\n",
      "forests/spambase/text/RF_5_pruned_with_sigma_0_3.json -> RF_5_pruned_with_sigma_0_3.graph\n",
      "forests/satlog/text/RF_10.json -> RF_10.graph\n",
      "forests/satlog/text/RF_10_pruned_with_sigma_0_0.json -> RF_10_pruned_with_sigma_0_0.graph\n",
      "forests/satlog/text/RF_10_pruned_with_sigma_0_1.json -> RF_10_pruned_with_sigma_0_1.graph\n",
      "forests/satlog/text/RF_10_pruned_with_sigma_0_2.json -> RF_10_pruned_with_sigma_0_2.graph\n",
      "forests/satlog/text/RF_10_pruned_with_sigma_0_3.json -> RF_10_pruned_with_sigma_0_3.graph\n",
      "forests/satlog/text/RF_15.json -> RF_15.graph\n",
      "forests/satlog/text/RF_15_pruned_with_sigma_0_0.json -> RF_15_pruned_with_sigma_0_0.graph\n",
      "forests/satlog/text/RF_15_pruned_with_sigma_0_1.json -> RF_15_pruned_with_sigma_0_1.graph\n",
      "forests/satlog/text/RF_15_pruned_with_sigma_0_2.json -> RF_15_pruned_with_sigma_0_2.graph\n",
      "forests/satlog/text/RF_15_pruned_with_sigma_0_3.json -> RF_15_pruned_with_sigma_0_3.graph\n",
      "forests/satlog/text/RF_20.json -> RF_20.graph\n",
      "forests/satlog/text/RF_20_pruned_with_sigma_0_0.json -> RF_20_pruned_with_sigma_0_0.graph\n",
      "forests/satlog/text/RF_20_pruned_with_sigma_0_1.json -> RF_20_pruned_with_sigma_0_1.graph\n",
      "forests/satlog/text/RF_20_pruned_with_sigma_0_2.json -> RF_20_pruned_with_sigma_0_2.graph\n",
      "forests/satlog/text/RF_20_pruned_with_sigma_0_3.json -> RF_20_pruned_with_sigma_0_3.graph\n",
      "forests/satlog/text/RF_5.json -> RF_5.graph\n",
      "forests/satlog/text/RF_5_pruned_with_sigma_0_0.json -> RF_5_pruned_with_sigma_0_0.graph\n",
      "forests/satlog/text/RF_5_pruned_with_sigma_0_1.json -> RF_5_pruned_with_sigma_0_1.graph\n",
      "forests/satlog/text/RF_5_pruned_with_sigma_0_2.json -> RF_5_pruned_with_sigma_0_2.graph\n",
      "forests/satlog/text/RF_5_pruned_with_sigma_0_3.json -> RF_5_pruned_with_sigma_0_3.graph\n"
     ]
    }
   ],
   "source": [
    "%%bash\n",
    "for dataset in spambase satlog; do\n",
    "    for f in forests/${dataset}/text/*.json; do\n",
    "        echo ${f} '->' `basename ${f} .json`.graph\n",
    "        python json2graphWithLeafEdges.py ${f} > forests/${dataset}/WithLeafEdges/`basename ${f} .json`.graph\n",
    "        python json2graphNoLeafEdges.py ${f} > forests/${dataset}/NoLeafEdges/`basename ${f} .json`.graph\n",
    "    done\n",
    "done"
   ]
  },
  {
   "cell_type": "markdown",
   "metadata": {},
   "source": [
    "### Next Steps\n",
    "The resulting files are used in the notebooks whose starting numbers are larger than 1 "
   ]
  }
 ],
 "metadata": {
  "kernelspec": {
   "display_name": "Python 3",
   "language": "python",
   "name": "python3"
  },
  "language_info": {
   "codemirror_mode": {
    "name": "ipython",
    "version": 3
   },
   "file_extension": ".py",
   "mimetype": "text/x-python",
   "name": "python",
   "nbconvert_exporter": "python",
   "pygments_lexer": "ipython3",
   "version": "3.8.5"
  }
 },
 "nbformat": 4,
 "nbformat_minor": 2
}
