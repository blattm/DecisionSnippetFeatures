{
 "cells": [
  {
   "cell_type": "code",
   "execution_count": 4,
   "metadata": {},
   "outputs": [
    {
     "name": "stdout",
     "output_type": "stream",
     "text": [
      "10972\n"
     ]
    },
    {
     "name": "stderr",
     "output_type": "stream",
     "text": [
      "/home/falkhoury/anaconda3/envs/py3k/lib/python3.7/site-packages/sklearn/preprocessing/_encoders.py:373: DeprecationWarning: Passing 'n_values' is deprecated in version 0.20 and will be removed in 0.22. You can use the 'categories' keyword instead. 'n_values=n' corresponds to 'categories=[range(n)] * n_features'.\n",
      "  warnings.warn(msg, DeprecationWarning)\n"
     ]
    },
    {
     "name": "stdout",
     "output_type": "stream",
     "text": [
      "[0.7453303  0.73667426 0.74259681 0.76116682 0.75968992]\n",
      "[0.7490916215638777]\n",
      "DSF_1: 0.7490916215638777\n"
     ]
    },
    {
     "name": "stderr",
     "output_type": "stream",
     "text": [
      "/home/falkhoury/anaconda3/envs/py3k/lib/python3.7/site-packages/sklearn/preprocessing/_encoders.py:373: DeprecationWarning: Passing 'n_values' is deprecated in version 0.20 and will be removed in 0.22. You can use the 'categories' keyword instead. 'n_values=n' corresponds to 'categories=[range(n)] * n_features'.\n",
      "  warnings.warn(msg, DeprecationWarning)\n"
     ]
    },
    {
     "name": "stdout",
     "output_type": "stream",
     "text": [
      "[0.74259681 0.73257403 0.75671982 0.75341841 0.75786594]\n",
      "[0.7490916215638777, 0.7486350023041459]\n",
      "DSF_2: 0.7486350023041459\n"
     ]
    },
    {
     "name": "stderr",
     "output_type": "stream",
     "text": [
      "/home/falkhoury/anaconda3/envs/py3k/lib/python3.7/site-packages/sklearn/preprocessing/_encoders.py:373: DeprecationWarning: Passing 'n_values' is deprecated in version 0.20 and will be removed in 0.22. You can use the 'categories' keyword instead. 'n_values=n' corresponds to 'categories=[range(n)] * n_features'.\n",
      "  warnings.warn(msg, DeprecationWarning)\n"
     ]
    },
    {
     "name": "stdout",
     "output_type": "stream",
     "text": [
      "[0.69886105 0.70159453 0.68838269 0.70328168 0.71181031]\n",
      "[0.7490916215638777, 0.7486350023041459, 0.7007860503223997]\n",
      "DSF_3: 0.7007860503223997\n"
     ]
    },
    {
     "name": "stderr",
     "output_type": "stream",
     "text": [
      "/home/falkhoury/anaconda3/envs/py3k/lib/python3.7/site-packages/sklearn/preprocessing/_encoders.py:373: DeprecationWarning: Passing 'n_values' is deprecated in version 0.20 and will be removed in 0.22. You can use the 'categories' keyword instead. 'n_values=n' corresponds to 'categories=[range(n)] * n_features'.\n",
      "  warnings.warn(msg, DeprecationWarning)\n"
     ]
    },
    {
     "name": "stdout",
     "output_type": "stream",
     "text": [
      "[0.71207289 0.70933941 0.69886105 0.71330902 0.72093023]\n",
      "[0.7490916215638777, 0.7486350023041459, 0.7007860503223997, 0.7109025211380162]\n",
      "DSF_4: 0.7109025211380162\n"
     ]
    },
    {
     "name": "stderr",
     "output_type": "stream",
     "text": [
      "/home/falkhoury/anaconda3/envs/py3k/lib/python3.7/site-packages/sklearn/preprocessing/_encoders.py:373: DeprecationWarning: Passing 'n_values' is deprecated in version 0.20 and will be removed in 0.22. You can use the 'categories' keyword instead. 'n_values=n' corresponds to 'categories=[range(n)] * n_features'.\n",
      "  warnings.warn(msg, DeprecationWarning)\n"
     ]
    },
    {
     "name": "stdout",
     "output_type": "stream",
     "text": [
      "[0.72482916 0.72938497 0.74259681 0.74658159 0.75877793]\n",
      "[0.7490916215638777, 0.7486350023041459, 0.7007860503223997, 0.7109025211380162, 0.7404340899722731]\n",
      "DSF_5: 0.7404340899722731\n"
     ]
    },
    {
     "name": "stderr",
     "output_type": "stream",
     "text": [
      "/home/falkhoury/anaconda3/envs/py3k/lib/python3.7/site-packages/sklearn/preprocessing/_encoders.py:373: DeprecationWarning: Passing 'n_values' is deprecated in version 0.20 and will be removed in 0.22. You can use the 'categories' keyword instead. 'n_values=n' corresponds to 'categories=[range(n)] * n_features'.\n",
      "  warnings.warn(msg, DeprecationWarning)\n"
     ]
    },
    {
     "name": "stdout",
     "output_type": "stream",
     "text": [
      "[0.71753986 0.73211845 0.72118451 0.7379216  0.75193798]\n",
      "[0.7490916215638777, 0.7486350023041459, 0.7007860503223997, 0.7109025211380162, 0.7404340899722731, 0.7321404826946121]\n",
      "DSF_6: 0.7321404826946121\n"
     ]
    },
    {
     "name": "stderr",
     "output_type": "stream",
     "text": [
      "/home/falkhoury/anaconda3/envs/py3k/lib/python3.7/site-packages/sklearn/preprocessing/_encoders.py:373: DeprecationWarning: Passing 'n_values' is deprecated in version 0.20 and will be removed in 0.22. You can use the 'categories' keyword instead. 'n_values=n' corresponds to 'categories=[range(n)] * n_features'.\n",
      "  warnings.warn(msg, DeprecationWarning)\n"
     ]
    },
    {
     "name": "stdout",
     "output_type": "stream",
     "text": [
      "[0.74396355 0.73394077 0.75489749 0.76891522 0.76060192]\n",
      "[0.7490916215638777, 0.7486350023041459, 0.7007860503223997, 0.7109025211380162, 0.7404340899722731, 0.7321404826946121, 0.7524637921689026]\n",
      "DSF_7: 0.7524637921689026\n"
     ]
    },
    {
     "name": "stderr",
     "output_type": "stream",
     "text": [
      "/home/falkhoury/anaconda3/envs/py3k/lib/python3.7/site-packages/sklearn/preprocessing/_encoders.py:373: DeprecationWarning: Passing 'n_values' is deprecated in version 0.20 and will be removed in 0.22. You can use the 'categories' keyword instead. 'n_values=n' corresponds to 'categories=[range(n)] * n_features'.\n",
      "  warnings.warn(msg, DeprecationWarning)\n"
     ]
    },
    {
     "name": "stdout",
     "output_type": "stream",
     "text": [
      "[0.71617312 0.71252847 0.71343964 0.72470374 0.74281806]\n",
      "[0.7490916215638777, 0.7486350023041459, 0.7007860503223997, 0.7109025211380162, 0.7404340899722731, 0.7321404826946121, 0.7524637921689026, 0.7219326049979387]\n",
      "DSF_8: 0.7219326049979387\n"
     ]
    },
    {
     "name": "stderr",
     "output_type": "stream",
     "text": [
      "/home/falkhoury/anaconda3/envs/py3k/lib/python3.7/site-packages/sklearn/preprocessing/_encoders.py:373: DeprecationWarning: Passing 'n_values' is deprecated in version 0.20 and will be removed in 0.22. You can use the 'categories' keyword instead. 'n_values=n' corresponds to 'categories=[range(n)] * n_features'.\n",
      "  warnings.warn(msg, DeprecationWarning)\n"
     ]
    },
    {
     "name": "stdout",
     "output_type": "stream",
     "text": [
      "[0.70159453 0.70113895 0.70751708 0.70692799 0.7127223 ]\n",
      "[0.7490916215638777, 0.7486350023041459, 0.7007860503223997, 0.7109025211380162, 0.7404340899722731, 0.7321404826946121, 0.7524637921689026, 0.7219326049979387, 0.7059801706224927]\n",
      "DSF_9: 0.7059801706224927\n"
     ]
    },
    {
     "name": "stderr",
     "output_type": "stream",
     "text": [
      "/home/falkhoury/anaconda3/envs/py3k/lib/python3.7/site-packages/sklearn/preprocessing/_encoders.py:373: DeprecationWarning: Passing 'n_values' is deprecated in version 0.20 and will be removed in 0.22. You can use the 'categories' keyword instead. 'n_values=n' corresponds to 'categories=[range(n)] * n_features'.\n",
      "  warnings.warn(msg, DeprecationWarning)\n"
     ]
    },
    {
     "name": "stdout",
     "output_type": "stream",
     "text": [
      "[0.71480638 0.70888383 0.70615034 0.71285324 0.73096215]\n",
      "[0.7490916215638777, 0.7486350023041459, 0.7007860503223997, 0.7109025211380162, 0.7404340899722731, 0.7321404826946121, 0.7524637921689026, 0.7219326049979387, 0.7059801706224927, 0.7147311870196541]\n",
      "DSF_10: 0.7147311870196541\n"
     ]
    }
   ],
   "source": [
    "#Decision Snippet Features for samples of random forest of threshold 1.\n",
    "\n",
    "\n",
    "dataSet='adult'\n",
    "rf_depth = 5\n",
    "samples_count = 10\n",
    "\n",
    "import csv,operator,sys,os\n",
    "import numpy as np\n",
    "import sklearn\n",
    "import json\n",
    "import FeatureGenerators.ReadData\n",
    "import time\n",
    "from functools import reduce\n",
    "from statistics import mean, stdev\n",
    "from sklearn.linear_model import LinearRegression\n",
    "from sklearn.linear_model import LogisticRegression\n",
    "from sklearn.model_selection import cross_val_score\n",
    "from sklearn.naive_bayes import GaussianNB\n",
    "from sklearn.ensemble import RandomForestClassifier\n",
    "from sklearn.tree import DecisionTreeClassifier\n",
    "from sklearn.utils.estimator_checks import check_estimator\n",
    "from sklearn.metrics import accuracy_score\n",
    "\n",
    "sys.path.append('arch-forest/data/adult/')\n",
    "sys.path.append('arch-forest/data/bank/')\n",
    "sys.path.append('arch-forest/data/wine-quality/')\n",
    "sys.path.append('arch-forest/data/')\n",
    "sys.path.append('arch-forest/code/')\n",
    "import trainForest\n",
    "import Tree\n",
    "\n",
    "import FeatureGenerators.DecisionSnippetFeatures\n",
    "\n",
    "dataPath = \"../frequentTreesInRandomForests/arch-forest/data/\"\n",
    "frequentTreesPath = \"../frequentTreesInRandomForests/forests/rootedFrequentTrees/\"\n",
    "resultsPath = \"../frequentTreesInRandomForests/forests/rootedFrequentTrees/\"\n",
    "\n",
    "\n",
    "\n",
    "#import train data\n",
    "from FeatureGenerators.ReadData import readDataAdult,readDataBank, readWine, readWineTest, readDataSpambase\n",
    "\n",
    "if (dataSet == 'adult'):\n",
    "    X_train,Y_train = FeatureGenerators.ReadData.readDataAdult('train')\n",
    "    X_test,Y_test = FeatureGenerators.ReadData.readDataAdult('test')\n",
    "if (dataSet == 'spambase'):\n",
    "    X_train,Y_train = FeatureGenerators.ReadData.readDataSpambase('train')\n",
    "    X_test,Y_test = FeatureGenerators.ReadData.readDataSpambase('test')        \n",
    "if (dataSet == 'letter'):\n",
    "    X_train,Y_train = FeatureGenerators.ReadData.readDataLetter('train')\n",
    "    X_test,Y_test = FeatureGenerators.ReadData.readDataLetter('test')  \n",
    "if (dataSet == 'bank'):\n",
    "    X_train,Y_train = FeatureGenerators.ReadData.readDataBank('train')\n",
    "    X_test,Y_test = FeatureGenerators.ReadData.readDataBank('test')\n",
    "if (dataSet == 'wine-quality'):\n",
    "        X_train,Y_train = ReadData.readWine()\n",
    "        X_test,Y_test = ReadData.readWineTest()\n",
    "\n",
    "\n",
    "\n",
    "\n",
    "# Classification\n",
    "\n",
    "    \n",
    "results_list = []\n",
    "time_list = []\n",
    "\n",
    "scoring_function = 'accuracy'\n",
    "pattern_max_size=6\n",
    "variant = 'NoLeafEdges'\n",
    "\n",
    "scores_list = []\n",
    "\n",
    "\n",
    "for sample in range(0,samples_count):\n",
    "    \n",
    "    rootedFrequentTrees = \"RF_\"+str(rf_depth)+\"_t1_\"+str(sample+1)\n",
    "    f = open(frequentTreesPath+dataSet+'/'+variant+'/leq'+str(pattern_max_size)+'/Samples/RF_'+str(rf_depth)+'/'+rootedFrequentTrees+'.json')\n",
    "    frequentpatterns = json.load(f)\n",
    "    f.close()\n",
    "\n",
    "    dsf = FeatureGenerators.DecisionSnippetFeatures.FrequentSubtreeFeatures(map(lambda x: x['pattern'], frequentpatterns[-100:]))\n",
    "       \n",
    "    fts = dsf.fit_transform(X_train,0)\n",
    "\n",
    "    from sklearn.preprocessing import OneHotEncoder\n",
    "    fts_onehot = OneHotEncoder(n_values=dsf.get_n_values()).fit_transform(fts)\n",
    "\n",
    "    \n",
    "\n",
    "\n",
    "\n",
    "    model = GaussianNB()\n",
    "    fts_onehot_nb_cv_score = cross_val_score(model, fts_onehot.toarray(), Y_train, cv=5, scoring=scoring_function)\n",
    "   \n",
    "    print(fts_onehot_nb_cv_score)\n",
    "    dsf_score = fts_onehot_nb_cv_score.mean()\n",
    "    scores_list.append(dsf_score)\n",
    "    print(scores_list)\n",
    "    print('DSF_'+str(sample+1)+ ': '+str(dsf_score))\n",
    "    \n",
    "    \n",
    "    \n",
    "    result = \"t1_\"+str(sample+1)+\",\"+str(dsf_score)+\",\\n\"\n",
    "    results_list.append(result)\n",
    "   \n",
    "\n",
    "f= open(resultsPath+dataSet+'/Results_'+variant+'/leq'+str(pattern_max_size)+'/'+'RF_'+str(rf_depth)+'_'+scoring_function+'_Samples'+'.csv',\"w\")\n",
    "for line in results_list:\n",
    "    f.write(line)\n",
    "f.write('\\n')\n",
    "f.write('Average: ,'+str(mean(scores_list))+'\\n')\n",
    "f.write('Deviation: ,'+str(stdev(scores_list)))\n",
    "    \n",
    "f.close()\n"
   ]
  },
  {
   "cell_type": "code",
   "execution_count": 29,
   "metadata": {},
   "outputs": [
    {
     "name": "stdout",
     "output_type": "stream",
     "text": [
      "4\n",
      "1.0\n"
     ]
    }
   ],
   "source": []
  },
  {
   "cell_type": "code",
   "execution_count": null,
   "metadata": {},
   "outputs": [],
   "source": []
  }
 ],
 "metadata": {
  "kernelspec": {
   "display_name": "Python 3",
   "language": "python",
   "name": "python3"
  },
  "language_info": {
   "codemirror_mode": {
    "name": "ipython",
    "version": 3
   },
   "file_extension": ".py",
   "mimetype": "text/x-python",
   "name": "python",
   "nbconvert_exporter": "python",
   "pygments_lexer": "ipython3",
   "version": "3.8.5"
  }
 },
 "nbformat": 4,
 "nbformat_minor": 2
}
