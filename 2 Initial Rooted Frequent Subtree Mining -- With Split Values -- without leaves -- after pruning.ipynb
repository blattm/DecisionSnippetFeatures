{
 "cells": [
  {
   "cell_type": "markdown",
   "metadata": {},
   "source": [
    "# Frequent Subtree Counting in Random Forests\n",
    "\n",
    "Similar to the notebook \n",
    "\n",
    "    Initial Rooted Frequent Subtree Mining (without embedding computation).ipnb\n",
    "    \n",
    "I will start the same mining / evaluation process for the data, but will include the split value in the labels, \n",
    "i.e., graph vertices now are labeled \n",
    "    \n",
    "    'ID<NUM'\n",
    "    \n",
    "\n",
    "## Datasets\n",
    "There are several datasets.\n",
    "At the moment, however, I'll experiment only with 'adult' and 'wine-quality'."
   ]
  },
  {
   "cell_type": "markdown",
   "metadata": {},
   "source": [
    "## Find Frequent Rooted Trees\n",
    "\n",
    "Let's see how many rooted frequent trees we can find in the random forests."
   ]
  },
  {
   "cell_type": "code",
   "execution_count": 1,
   "metadata": {
    "scrolled": true
   },
   "outputs": [
    {
     "name": "stderr",
     "output_type": "stream",
     "text": [
      "mkdir: cannot create directory ‘forests/spambase/NoLeafEdgesWithSplitValues/’: File exists\n",
      "mkdir: cannot create directory ‘forests/satlog/NoLeafEdgesWithSplitValues/’: File exists\n"
     ]
    },
    {
     "ename": "CalledProcessError",
     "evalue": "Command 'b'for dataset in spambase satlog; do\\n    for variant in NoLeafEdgesWithSplitValues; do\\n        mkdir forests/${dataset}/${variant}/\\n    done\\ndone\\n'' returned non-zero exit status 1.",
     "output_type": "error",
     "traceback": [
      "\u001b[0;31m---------------------------------------------------------------------------\u001b[0m",
      "\u001b[0;31mCalledProcessError\u001b[0m                        Traceback (most recent call last)",
      "\u001b[0;32m<ipython-input-1-0b7d525dbe6e>\u001b[0m in \u001b[0;36m<module>\u001b[0;34m\u001b[0m\n\u001b[0;32m----> 1\u001b[0;31m \u001b[0mget_ipython\u001b[0m\u001b[0;34m(\u001b[0m\u001b[0;34m)\u001b[0m\u001b[0;34m.\u001b[0m\u001b[0mrun_cell_magic\u001b[0m\u001b[0;34m(\u001b[0m\u001b[0;34m'bash'\u001b[0m\u001b[0;34m,\u001b[0m \u001b[0;34m''\u001b[0m\u001b[0;34m,\u001b[0m \u001b[0;34m'for dataset in spambase satlog; do\\n    for variant in NoLeafEdgesWithSplitValues; do\\n        mkdir forests/${dataset}/${variant}/\\n    done\\ndone\\n'\u001b[0m\u001b[0;34m)\u001b[0m\u001b[0;34m\u001b[0m\u001b[0;34m\u001b[0m\u001b[0m\n\u001b[0m",
      "\u001b[0;32m/home/iai/user/blatt/myconda/bigenv/lib/python3.8/site-packages/IPython/core/interactiveshell.py\u001b[0m in \u001b[0;36mrun_cell_magic\u001b[0;34m(self, magic_name, line, cell)\u001b[0m\n\u001b[1;32m   2369\u001b[0m             \u001b[0;32mwith\u001b[0m \u001b[0mself\u001b[0m\u001b[0;34m.\u001b[0m\u001b[0mbuiltin_trap\u001b[0m\u001b[0;34m:\u001b[0m\u001b[0;34m\u001b[0m\u001b[0;34m\u001b[0m\u001b[0m\n\u001b[1;32m   2370\u001b[0m                 \u001b[0margs\u001b[0m \u001b[0;34m=\u001b[0m \u001b[0;34m(\u001b[0m\u001b[0mmagic_arg_s\u001b[0m\u001b[0;34m,\u001b[0m \u001b[0mcell\u001b[0m\u001b[0;34m)\u001b[0m\u001b[0;34m\u001b[0m\u001b[0;34m\u001b[0m\u001b[0m\n\u001b[0;32m-> 2371\u001b[0;31m                 \u001b[0mresult\u001b[0m \u001b[0;34m=\u001b[0m \u001b[0mfn\u001b[0m\u001b[0;34m(\u001b[0m\u001b[0;34m*\u001b[0m\u001b[0margs\u001b[0m\u001b[0;34m,\u001b[0m \u001b[0;34m**\u001b[0m\u001b[0mkwargs\u001b[0m\u001b[0;34m)\u001b[0m\u001b[0;34m\u001b[0m\u001b[0;34m\u001b[0m\u001b[0m\n\u001b[0m\u001b[1;32m   2372\u001b[0m             \u001b[0;32mreturn\u001b[0m \u001b[0mresult\u001b[0m\u001b[0;34m\u001b[0m\u001b[0;34m\u001b[0m\u001b[0m\n\u001b[1;32m   2373\u001b[0m \u001b[0;34m\u001b[0m\u001b[0m\n",
      "\u001b[0;32m/home/iai/user/blatt/myconda/bigenv/lib/python3.8/site-packages/IPython/core/magics/script.py\u001b[0m in \u001b[0;36mnamed_script_magic\u001b[0;34m(line, cell)\u001b[0m\n\u001b[1;32m    140\u001b[0m             \u001b[0;32melse\u001b[0m\u001b[0;34m:\u001b[0m\u001b[0;34m\u001b[0m\u001b[0;34m\u001b[0m\u001b[0m\n\u001b[1;32m    141\u001b[0m                 \u001b[0mline\u001b[0m \u001b[0;34m=\u001b[0m \u001b[0mscript\u001b[0m\u001b[0;34m\u001b[0m\u001b[0;34m\u001b[0m\u001b[0m\n\u001b[0;32m--> 142\u001b[0;31m             \u001b[0;32mreturn\u001b[0m \u001b[0mself\u001b[0m\u001b[0;34m.\u001b[0m\u001b[0mshebang\u001b[0m\u001b[0;34m(\u001b[0m\u001b[0mline\u001b[0m\u001b[0;34m,\u001b[0m \u001b[0mcell\u001b[0m\u001b[0;34m)\u001b[0m\u001b[0;34m\u001b[0m\u001b[0;34m\u001b[0m\u001b[0m\n\u001b[0m\u001b[1;32m    143\u001b[0m \u001b[0;34m\u001b[0m\u001b[0m\n\u001b[1;32m    144\u001b[0m         \u001b[0;31m# write a basic docstring:\u001b[0m\u001b[0;34m\u001b[0m\u001b[0;34m\u001b[0m\u001b[0;34m\u001b[0m\u001b[0m\n",
      "\u001b[0;32m<decorator-gen-110>\u001b[0m in \u001b[0;36mshebang\u001b[0;34m(self, line, cell)\u001b[0m\n",
      "\u001b[0;32m/home/iai/user/blatt/myconda/bigenv/lib/python3.8/site-packages/IPython/core/magic.py\u001b[0m in \u001b[0;36m<lambda>\u001b[0;34m(f, *a, **k)\u001b[0m\n\u001b[1;32m    185\u001b[0m     \u001b[0;31m# but it's overkill for just that one bit of state.\u001b[0m\u001b[0;34m\u001b[0m\u001b[0;34m\u001b[0m\u001b[0;34m\u001b[0m\u001b[0m\n\u001b[1;32m    186\u001b[0m     \u001b[0;32mdef\u001b[0m \u001b[0mmagic_deco\u001b[0m\u001b[0;34m(\u001b[0m\u001b[0marg\u001b[0m\u001b[0;34m)\u001b[0m\u001b[0;34m:\u001b[0m\u001b[0;34m\u001b[0m\u001b[0;34m\u001b[0m\u001b[0m\n\u001b[0;32m--> 187\u001b[0;31m         \u001b[0mcall\u001b[0m \u001b[0;34m=\u001b[0m \u001b[0;32mlambda\u001b[0m \u001b[0mf\u001b[0m\u001b[0;34m,\u001b[0m \u001b[0;34m*\u001b[0m\u001b[0ma\u001b[0m\u001b[0;34m,\u001b[0m \u001b[0;34m**\u001b[0m\u001b[0mk\u001b[0m\u001b[0;34m:\u001b[0m \u001b[0mf\u001b[0m\u001b[0;34m(\u001b[0m\u001b[0;34m*\u001b[0m\u001b[0ma\u001b[0m\u001b[0;34m,\u001b[0m \u001b[0;34m**\u001b[0m\u001b[0mk\u001b[0m\u001b[0;34m)\u001b[0m\u001b[0;34m\u001b[0m\u001b[0;34m\u001b[0m\u001b[0m\n\u001b[0m\u001b[1;32m    188\u001b[0m \u001b[0;34m\u001b[0m\u001b[0m\n\u001b[1;32m    189\u001b[0m         \u001b[0;32mif\u001b[0m \u001b[0mcallable\u001b[0m\u001b[0;34m(\u001b[0m\u001b[0marg\u001b[0m\u001b[0;34m)\u001b[0m\u001b[0;34m:\u001b[0m\u001b[0;34m\u001b[0m\u001b[0;34m\u001b[0m\u001b[0m\n",
      "\u001b[0;32m/home/iai/user/blatt/myconda/bigenv/lib/python3.8/site-packages/IPython/core/magics/script.py\u001b[0m in \u001b[0;36mshebang\u001b[0;34m(self, line, cell)\u001b[0m\n\u001b[1;32m    243\u001b[0m             \u001b[0msys\u001b[0m\u001b[0;34m.\u001b[0m\u001b[0mstderr\u001b[0m\u001b[0;34m.\u001b[0m\u001b[0mflush\u001b[0m\u001b[0;34m(\u001b[0m\u001b[0;34m)\u001b[0m\u001b[0;34m\u001b[0m\u001b[0;34m\u001b[0m\u001b[0m\n\u001b[1;32m    244\u001b[0m         \u001b[0;32mif\u001b[0m \u001b[0margs\u001b[0m\u001b[0;34m.\u001b[0m\u001b[0mraise_error\u001b[0m \u001b[0;32mand\u001b[0m \u001b[0mp\u001b[0m\u001b[0;34m.\u001b[0m\u001b[0mreturncode\u001b[0m\u001b[0;34m!=\u001b[0m\u001b[0;36m0\u001b[0m\u001b[0;34m:\u001b[0m\u001b[0;34m\u001b[0m\u001b[0;34m\u001b[0m\u001b[0m\n\u001b[0;32m--> 245\u001b[0;31m             \u001b[0;32mraise\u001b[0m \u001b[0mCalledProcessError\u001b[0m\u001b[0;34m(\u001b[0m\u001b[0mp\u001b[0m\u001b[0;34m.\u001b[0m\u001b[0mreturncode\u001b[0m\u001b[0;34m,\u001b[0m \u001b[0mcell\u001b[0m\u001b[0;34m,\u001b[0m \u001b[0moutput\u001b[0m\u001b[0;34m=\u001b[0m\u001b[0mout\u001b[0m\u001b[0;34m,\u001b[0m \u001b[0mstderr\u001b[0m\u001b[0;34m=\u001b[0m\u001b[0merr\u001b[0m\u001b[0;34m)\u001b[0m\u001b[0;34m\u001b[0m\u001b[0;34m\u001b[0m\u001b[0m\n\u001b[0m\u001b[1;32m    246\u001b[0m \u001b[0;34m\u001b[0m\u001b[0m\n\u001b[1;32m    247\u001b[0m     \u001b[0;32mdef\u001b[0m \u001b[0m_run_script\u001b[0m\u001b[0;34m(\u001b[0m\u001b[0mself\u001b[0m\u001b[0;34m,\u001b[0m \u001b[0mp\u001b[0m\u001b[0;34m,\u001b[0m \u001b[0mcell\u001b[0m\u001b[0;34m,\u001b[0m \u001b[0mto_close\u001b[0m\u001b[0;34m)\u001b[0m\u001b[0;34m:\u001b[0m\u001b[0;34m\u001b[0m\u001b[0;34m\u001b[0m\u001b[0m\n",
      "\u001b[0;31mCalledProcessError\u001b[0m: Command 'b'for dataset in spambase satlog; do\\n    for variant in NoLeafEdgesWithSplitValues; do\\n        mkdir forests/${dataset}/${variant}/\\n    done\\ndone\\n'' returned non-zero exit status 1."
     ]
    }
   ],
   "source": [
    "%%bash\n",
    "for dataset in spambase satlog; do\n",
    "    for variant in NoLeafEdgesWithSplitValues; do\n",
    "        mkdir forests/${dataset}/${variant}/\n",
    "    done\n",
    "done"
   ]
  },
  {
   "cell_type": "code",
   "execution_count": 2,
   "metadata": {},
   "outputs": [
    {
     "name": "stdout",
     "output_type": "stream",
     "text": [
      "forests/spambase/text/RF_10.json -> RF_10.graph\n",
      "forests/spambase/text/RF_10_pruned_with_sigma_0_0.json -> RF_10_pruned_with_sigma_0_0.graph\n",
      "forests/spambase/text/RF_10_pruned_with_sigma_0_1.json -> RF_10_pruned_with_sigma_0_1.graph\n",
      "forests/spambase/text/RF_10_pruned_with_sigma_0_2.json -> RF_10_pruned_with_sigma_0_2.graph\n",
      "forests/spambase/text/RF_10_pruned_with_sigma_0_3.json -> RF_10_pruned_with_sigma_0_3.graph\n",
      "forests/spambase/text/RF_15.json -> RF_15.graph\n",
      "forests/spambase/text/RF_15_pruned_with_sigma_0_0.json -> RF_15_pruned_with_sigma_0_0.graph\n",
      "forests/spambase/text/RF_15_pruned_with_sigma_0_1.json -> RF_15_pruned_with_sigma_0_1.graph\n",
      "forests/spambase/text/RF_15_pruned_with_sigma_0_2.json -> RF_15_pruned_with_sigma_0_2.graph\n",
      "forests/spambase/text/RF_15_pruned_with_sigma_0_3.json -> RF_15_pruned_with_sigma_0_3.graph\n",
      "forests/spambase/text/RF_20.json -> RF_20.graph\n",
      "forests/spambase/text/RF_20_pruned_with_sigma_0_0.json -> RF_20_pruned_with_sigma_0_0.graph\n",
      "forests/spambase/text/RF_20_pruned_with_sigma_0_1.json -> RF_20_pruned_with_sigma_0_1.graph\n",
      "forests/spambase/text/RF_20_pruned_with_sigma_0_2.json -> RF_20_pruned_with_sigma_0_2.graph\n",
      "forests/spambase/text/RF_20_pruned_with_sigma_0_3.json -> RF_20_pruned_with_sigma_0_3.graph\n",
      "forests/spambase/text/RF_5.json -> RF_5.graph\n",
      "forests/spambase/text/RF_5_pruned_with_sigma_0_0.json -> RF_5_pruned_with_sigma_0_0.graph\n",
      "forests/spambase/text/RF_5_pruned_with_sigma_0_1.json -> RF_5_pruned_with_sigma_0_1.graph\n",
      "forests/spambase/text/RF_5_pruned_with_sigma_0_2.json -> RF_5_pruned_with_sigma_0_2.graph\n",
      "forests/spambase/text/RF_5_pruned_with_sigma_0_3.json -> RF_5_pruned_with_sigma_0_3.graph\n",
      "forests/satlog/text/RF_10.json -> RF_10.graph\n",
      "forests/satlog/text/RF_10_pruned_with_sigma_0_0.json -> RF_10_pruned_with_sigma_0_0.graph\n",
      "forests/satlog/text/RF_10_pruned_with_sigma_0_1.json -> RF_10_pruned_with_sigma_0_1.graph\n",
      "forests/satlog/text/RF_10_pruned_with_sigma_0_2.json -> RF_10_pruned_with_sigma_0_2.graph\n",
      "forests/satlog/text/RF_10_pruned_with_sigma_0_3.json -> RF_10_pruned_with_sigma_0_3.graph\n",
      "forests/satlog/text/RF_15.json -> RF_15.graph\n",
      "forests/satlog/text/RF_15_pruned_with_sigma_0_0.json -> RF_15_pruned_with_sigma_0_0.graph\n",
      "forests/satlog/text/RF_15_pruned_with_sigma_0_1.json -> RF_15_pruned_with_sigma_0_1.graph\n",
      "forests/satlog/text/RF_15_pruned_with_sigma_0_2.json -> RF_15_pruned_with_sigma_0_2.graph\n",
      "forests/satlog/text/RF_15_pruned_with_sigma_0_3.json -> RF_15_pruned_with_sigma_0_3.graph\n",
      "forests/satlog/text/RF_20.json -> RF_20.graph\n",
      "forests/satlog/text/RF_20_pruned_with_sigma_0_0.json -> RF_20_pruned_with_sigma_0_0.graph\n",
      "forests/satlog/text/RF_20_pruned_with_sigma_0_1.json -> RF_20_pruned_with_sigma_0_1.graph\n",
      "forests/satlog/text/RF_20_pruned_with_sigma_0_2.json -> RF_20_pruned_with_sigma_0_2.graph\n",
      "forests/satlog/text/RF_20_pruned_with_sigma_0_3.json -> RF_20_pruned_with_sigma_0_3.graph\n",
      "forests/satlog/text/RF_5.json -> RF_5.graph\n",
      "forests/satlog/text/RF_5_pruned_with_sigma_0_0.json -> RF_5_pruned_with_sigma_0_0.graph\n",
      "forests/satlog/text/RF_5_pruned_with_sigma_0_1.json -> RF_5_pruned_with_sigma_0_1.graph\n",
      "forests/satlog/text/RF_5_pruned_with_sigma_0_2.json -> RF_5_pruned_with_sigma_0_2.graph\n",
      "forests/satlog/text/RF_5_pruned_with_sigma_0_3.json -> RF_5_pruned_with_sigma_0_3.graph\n"
     ]
    }
   ],
   "source": [
    "%%bash\n",
    "for dataset in spambase satlog; do\n",
    "    for f in forests/${dataset}/text/*.json; do\n",
    "        echo ${f} '->' `basename ${f} .json`.graph\n",
    "        python json2graphNoLeafEdgesWithSplitValues.py ${f} > forests/${dataset}/NoLeafEdgesWithSplitValues/`basename ${f} .json`.graph\n",
    "    done\n",
    "done"
   ]
  },
  {
   "cell_type": "code",
   "execution_count": 3,
   "metadata": {},
   "outputs": [
    {
     "name": "stderr",
     "output_type": "stream",
     "text": [
      "mkdir: cannot create directory ‘forests/rootedFrequentTrees’: File exists\n",
      "mkdir: cannot create directory ‘forests/rootedFrequentTrees/spambase/’: File exists\n"
     ]
    }
   ],
   "source": [
    "%%bash\n",
    "mkdir forests/rootedFrequentTrees\n",
    "# create output directories\n",
    "for dataset in spambase satlog; do\n",
    "    mkdir forests/rootedFrequentTrees/${dataset}/\n",
    "    for variant in NoLeafEdgesWithSplitValues; do\n",
    "        mkdir forests/rootedFrequentTrees/${dataset}/${variant}/\n",
    "    done\n",
    "done"
   ]
  },
  {
   "cell_type": "code",
   "execution_count": 2,
   "metadata": {},
   "outputs": [
    {
     "name": "stdout",
     "output_type": "stream",
     "text": [
      "This is a frequent rooted subtree mining tool.\n",
      "Implemented by Pascal Welke starting in 2018.\n",
      "\n",
      "This program computes and outputs frequent *rooted* subtrees and feature\n",
      "representations of the mined graphs. The database is expected to contain\n",
      "tree transactions that are interpreted as being rooted at the first\n",
      "vertex.\n",
      "\n",
      "usage: ./lwg [options] [FILE]\n",
      "\n",
      "If no FILE argument is given or FILE is - the program reads from stdin.\n",
      "It always prints to stdout (unless specified by parameters) and \n",
      "stderr (statistics).\n",
      "\n",
      "\n",
      "Options:\n",
      "-h:           print this possibly helpful information.\n",
      "\n",
      "-t THRESHOLD: Minimum absolute support threshold in the graph database\n",
      "\n",
      "-p SIZE:      Maximum size (number of vertices) of patterns returned\n",
      "\n",
      "-o FILE:      output the frequent subtrees in this file\n",
      "\n",
      "-f FILE:      output the feature information in this file\n",
      "\n",
      "-i VALUE:     Some embedding operators require a parameter that might be\n",
      "              a float between 0.0 and 1.0 or an integer >=1, depending \n",
      "              on the operator.\n",
      "              \n",
      "-r VALUE:     Initialize the random number generator with seed VALUE. If\n",
      "              not specified, random generator is seeded according to \n",
      "              current time.\n",
      "\n",
      "\n",
      "-m METHOD:    Choose mining method among\n",
      "              \n",
      "              bfs: (default) mine in a levelwise fashion (like apriori). \n",
      "                 This results in better pruning behavior, but large memory \n",
      "                 footprint\n",
      "      \n",
      "\n",
      "-e OPERATOR:  Select the algorithm to decide whether a tree pattern \n",
      "              matches a transaction graph.\n",
      "              Choose embedding operator among the following:\n",
      "\n",
      "         == EXACT TREE EMBEDDING OPERATORS ==\n",
      "           These operators result in the full set of frequent \n",
      "           rooted subtrees being output by this mining algorithm.\n",
      "         \n",
      "           rootedTrees: (default) classical subtree isomorphism algorithm.\n",
      "             A pattern matches a graph, if it is rooted subgraph isomorphic \n",
      "             to it. That is, the transactions are interpreted as being rooted\n",
      "             at their first vertex (in the graph database file format) and the \n",
      "             image of the root of the pattern must be the vertex in the image of \n",
      "             the pattern with the smallest distance to the root of the transaction.\n",
      "              Works only for forest transaction databases.\n",
      "\n",
      "             \n",
      "         == STRANGE EMBEDDING OPERATORS ==\n",
      "           These operators do various stuff. The first two are \n",
      "           stronger than subgraph isomorphism, requiring possibly\n",
      "           more than one embedding into a transaction graph to\n",
      "           match the graph. The third just enumerates all trees\n",
      "           up to isomorphism that can be created from the vertex \n",
      "           and edge labels in the database.\n",
      "                          \n",
      "           rootedTreeEnumeration: Enumerate all trees up to isomorphism which \n",
      "             can be generated from frequent vertices and edges in the\n",
      "             input databases.\n",
      "         \n",
      "\n",
      " \n"
     ]
    }
   ],
   "source": [
    "%%bash\n",
    "./lwgr -h"
   ]
  },
  {
   "cell_type": "code",
   "execution_count": 4,
   "metadata": {},
   "outputs": [],
   "source": [
    "%%bash\n",
    "rm todolist.txt\n",
    "for dataset in spambase satlog; do\n",
    "    for variant in NoLeafEdgesWithSplitValues; do\n",
    "        for f in forests/${dataset}/${variant}/*.graph; do\n",
    "            for threshold in 2; do\n",
    "                #echo \"processing threshold ${threshold} for ${f}\"\n",
    "                echo \"./lwgr -e rootedTrees -m bfs -t ${threshold} -p 10 \\\n",
    "                  -o forests/rootedFrequentTrees/${dataset}/${variant}/`basename ${f} .graph`_t${threshold}.patterns \\\n",
    "                  < ${f} \\\n",
    "                  > forests/rootedFrequentTrees/${dataset}/${variant}/`basename ${f} .graph`_t${threshold}.features \\\n",
    "                  2> forests/rootedFrequentTrees/${dataset}/${variant}/`basename ${f} .graph`_t${threshold}.logs\" >> todolist.txt\n",
    "                  \n",
    "            done\n",
    "        done\n",
    "    done\n",
    "done"
   ]
  },
  {
   "cell_type": "code",
   "execution_count": 1,
   "metadata": {},
   "outputs": [],
   "source": [
    "%%bash\n",
    "cat todolist.txt | parallel -j 24"
   ]
  },
  {
   "cell_type": "code",
   "execution_count": 1,
   "metadata": {},
   "outputs": [
    {
     "name": "stdout",
     "output_type": "stream",
     "text": [
      "processing threshold 2 for forests/adult/WithLeafEdgesWithSplitValues/DT_20.graph\n",
      "processing threshold 2 for forests/adult/WithLeafEdgesWithSplitValues/ET_20.graph\n",
      "Killed\n",
      "processing threshold 2 for forests/adult/WithLeafEdgesWithSplitValues/RF_20.graph\n",
      "Killed\n",
      "processing threshold 2 for forests/adult/NoLeafEdgesWithSplitValues/DT_20.graph\n",
      "processing threshold 2 for forests/adult/NoLeafEdgesWithSplitValues/ET_20.graph\n",
      "processing threshold 2 for forests/adult/NoLeafEdgesWithSplitValues/RF_20.graph\n",
      "processing threshold 2 for forests/wine-quality/WithLeafEdgesWithSplitValues/DT_20.graph\n",
      "processing threshold 2 for forests/wine-quality/WithLeafEdgesWithSplitValues/ET_20.graph\n",
      "processing threshold 2 for forests/wine-quality/WithLeafEdgesWithSplitValues/RF_20.graph\n",
      "Killed\n",
      "processing threshold 2 for forests/wine-quality/NoLeafEdgesWithSplitValues/DT_20.graph\n",
      "processing threshold 2 for forests/wine-quality/NoLeafEdgesWithSplitValues/ET_20.graph\n",
      "processing threshold 2 for forests/wine-quality/NoLeafEdgesWithSplitValues/RF_20.graph\n"
     ]
    }
   ],
   "source": [
    "%%bash\n",
    "#for dataset in adult wine-quality; do\n",
    "#    for variant in NoLeafEdgesWithSplitValues; do\n",
    "#        for f in forests/${dataset}/${variant}/*_20.graph; do\n",
    "#            threshold=2\n",
    "#            echo \"processing threshold ${threshold} for ${f}\"\n",
    "#            ./lwgr -e rootedTrees -m bfs -t ${threshold} -p 10 \\\n",
    "#              -o forests/rootedFrequentTrees/${dataset}/${variant}/`basename ${f} .graph`_t${threshold}.patterns \\\n",
    "#              < ${f} \\\n",
    "#              > forests/rootedFrequentTrees/${dataset}/${variant}/`basename ${f} .graph`_t${threshold}.features \\\n",
    "#              2> forests/rootedFrequentTrees/${dataset}/${variant}/`basename ${f} .graph`_t${threshold}.logs       \n",
    "#        done\n",
    "#    done\n",
    "#done"
   ]
  },
  {
   "cell_type": "code",
   "execution_count": 2,
   "metadata": {},
   "outputs": [
    {
     "name": "stdout",
     "output_type": "stream",
     "text": [
      "Processing forests/rootedFrequentTrees/spambase/NoLeafEdgesWithSplitValues/DT_10_t2.patterns\n",
      "Processing forests/rootedFrequentTrees/spambase/NoLeafEdgesWithSplitValues/DT_15_t2.patterns\n",
      "Processing forests/rootedFrequentTrees/spambase/NoLeafEdgesWithSplitValues/DT_1_t2.patterns\n",
      "Processing forests/rootedFrequentTrees/spambase/NoLeafEdgesWithSplitValues/DT_20_t2.patterns\n",
      "Processing forests/rootedFrequentTrees/spambase/NoLeafEdgesWithSplitValues/DT_5_t2.patterns\n",
      "Processing forests/rootedFrequentTrees/spambase/NoLeafEdgesWithSplitValues/RF_10_pruned_with_sigma_0_0_t2.patterns\n",
      "Processing forests/rootedFrequentTrees/spambase/NoLeafEdgesWithSplitValues/RF_10_pruned_with_sigma_0_1_t2.patterns\n",
      "Processing forests/rootedFrequentTrees/spambase/NoLeafEdgesWithSplitValues/RF_10_pruned_with_sigma_0_2_t2.patterns\n",
      "Processing forests/rootedFrequentTrees/spambase/NoLeafEdgesWithSplitValues/RF_10_pruned_with_sigma_0_3_t2.patterns\n",
      "Processing forests/rootedFrequentTrees/spambase/NoLeafEdgesWithSplitValues/RF_10_t2.patterns\n",
      "Processing forests/rootedFrequentTrees/spambase/NoLeafEdgesWithSplitValues/RF_15_pruned_with_sigma_0_0_t2.patterns\n",
      "Processing forests/rootedFrequentTrees/spambase/NoLeafEdgesWithSplitValues/RF_15_pruned_with_sigma_0_1_t2.patterns\n",
      "Processing forests/rootedFrequentTrees/spambase/NoLeafEdgesWithSplitValues/RF_15_pruned_with_sigma_0_2_t2.patterns\n",
      "Processing forests/rootedFrequentTrees/spambase/NoLeafEdgesWithSplitValues/RF_15_pruned_with_sigma_0_3_t2.patterns\n",
      "Processing forests/rootedFrequentTrees/spambase/NoLeafEdgesWithSplitValues/RF_15_t2.patterns\n",
      "Processing forests/rootedFrequentTrees/spambase/NoLeafEdgesWithSplitValues/RF_1_t2.patterns\n",
      "Processing forests/rootedFrequentTrees/spambase/NoLeafEdgesWithSplitValues/RF_20_pruned_with_sigma_0_0_t2.patterns\n",
      "Processing forests/rootedFrequentTrees/spambase/NoLeafEdgesWithSplitValues/RF_20_pruned_with_sigma_0_1_t2.patterns\n",
      "Processing forests/rootedFrequentTrees/spambase/NoLeafEdgesWithSplitValues/RF_20_pruned_with_sigma_0_2_t2.patterns\n",
      "Processing forests/rootedFrequentTrees/spambase/NoLeafEdgesWithSplitValues/RF_20_pruned_with_sigma_0_3_t2.patterns\n",
      "Processing forests/rootedFrequentTrees/spambase/NoLeafEdgesWithSplitValues/RF_20_t2.patterns\n",
      "Processing forests/rootedFrequentTrees/spambase/NoLeafEdgesWithSplitValues/RF_5_pruned_with_sigma_0_0_t2.patterns\n",
      "Processing forests/rootedFrequentTrees/spambase/NoLeafEdgesWithSplitValues/RF_5_pruned_with_sigma_0_1_t2.patterns\n",
      "Processing forests/rootedFrequentTrees/spambase/NoLeafEdgesWithSplitValues/RF_5_pruned_with_sigma_0_2_t2.patterns\n",
      "Processing forests/rootedFrequentTrees/spambase/NoLeafEdgesWithSplitValues/RF_5_pruned_with_sigma_0_3_t2.patterns\n",
      "Processing forests/rootedFrequentTrees/spambase/NoLeafEdgesWithSplitValues/RF_5_t2.patterns\n",
      "Processing forests/rootedFrequentTrees/satlog/NoLeafEdgesWithSplitValues/DT_10_t2.patterns\n",
      "Processing forests/rootedFrequentTrees/satlog/NoLeafEdgesWithSplitValues/DT_15_t2.patterns\n",
      "Processing forests/rootedFrequentTrees/satlog/NoLeafEdgesWithSplitValues/DT_1_t2.patterns\n",
      "Processing forests/rootedFrequentTrees/satlog/NoLeafEdgesWithSplitValues/DT_20_t2.patterns\n",
      "Processing forests/rootedFrequentTrees/satlog/NoLeafEdgesWithSplitValues/DT_5_t2.patterns\n",
      "Processing forests/rootedFrequentTrees/satlog/NoLeafEdgesWithSplitValues/RF_10_pruned_with_sigma_0_0_t2.patterns\n",
      "Processing forests/rootedFrequentTrees/satlog/NoLeafEdgesWithSplitValues/RF_10_pruned_with_sigma_0_1_t2.patterns\n",
      "Processing forests/rootedFrequentTrees/satlog/NoLeafEdgesWithSplitValues/RF_10_pruned_with_sigma_0_2_t2.patterns\n",
      "Processing forests/rootedFrequentTrees/satlog/NoLeafEdgesWithSplitValues/RF_10_pruned_with_sigma_0_3_t2.patterns\n",
      "Processing forests/rootedFrequentTrees/satlog/NoLeafEdgesWithSplitValues/RF_10_t2.patterns\n",
      "Processing forests/rootedFrequentTrees/satlog/NoLeafEdgesWithSplitValues/RF_15_pruned_with_sigma_0_0_t2.patterns\n",
      "Processing forests/rootedFrequentTrees/satlog/NoLeafEdgesWithSplitValues/RF_15_pruned_with_sigma_0_1_t2.patterns\n",
      "Processing forests/rootedFrequentTrees/satlog/NoLeafEdgesWithSplitValues/RF_15_pruned_with_sigma_0_2_t2.patterns\n",
      "Processing forests/rootedFrequentTrees/satlog/NoLeafEdgesWithSplitValues/RF_15_pruned_with_sigma_0_3_t2.patterns\n",
      "Processing forests/rootedFrequentTrees/satlog/NoLeafEdgesWithSplitValues/RF_15_t2.patterns\n",
      "Processing forests/rootedFrequentTrees/satlog/NoLeafEdgesWithSplitValues/RF_1_t2.patterns\n",
      "Processing forests/rootedFrequentTrees/satlog/NoLeafEdgesWithSplitValues/RF_20_pruned_with_sigma_0_0_t2.patterns\n",
      "Processing forests/rootedFrequentTrees/satlog/NoLeafEdgesWithSplitValues/RF_20_pruned_with_sigma_0_1_t2.patterns\n",
      "Processing forests/rootedFrequentTrees/satlog/NoLeafEdgesWithSplitValues/RF_20_pruned_with_sigma_0_2_t2.patterns\n",
      "Processing forests/rootedFrequentTrees/satlog/NoLeafEdgesWithSplitValues/RF_20_pruned_with_sigma_0_3_t2.patterns\n",
      "Processing forests/rootedFrequentTrees/satlog/NoLeafEdgesWithSplitValues/RF_20_t2.patterns\n",
      "Processing forests/rootedFrequentTrees/satlog/NoLeafEdgesWithSplitValues/RF_5_pruned_with_sigma_0_0_t2.patterns\n",
      "Processing forests/rootedFrequentTrees/satlog/NoLeafEdgesWithSplitValues/RF_5_pruned_with_sigma_0_1_t2.patterns\n",
      "Processing forests/rootedFrequentTrees/satlog/NoLeafEdgesWithSplitValues/RF_5_pruned_with_sigma_0_2_t2.patterns\n",
      "Processing forests/rootedFrequentTrees/satlog/NoLeafEdgesWithSplitValues/RF_5_pruned_with_sigma_0_3_t2.patterns\n",
      "Processing forests/rootedFrequentTrees/satlog/NoLeafEdgesWithSplitValues/RF_5_t2.patterns\n"
     ]
    }
   ],
   "source": [
    "%%bash\n",
    "for dataset in spambase satlog; do\n",
    "    for variant in NoLeafEdgesWithSplitValues; do\n",
    "        for f in forests/rootedFrequentTrees/${dataset}/${variant}/*_t2.patterns;\n",
    "        do\n",
    "                f1=${f%_t2.patterns}\n",
    "                File1=\"${f1}_t\"\n",
    "                File2=\".patterns\"\n",
    "                echo \"Processing $f\"    \n",
    "                for ((num2=3; num2<=25; num2++)); do\n",
    "                        num=$(( $num2 -1 ))\n",
    "                        grep -P -v \"^${num}\\t\" \"$File1$num$File2\" > \"$File1$num2$File2\"\n",
    "                done\n",
    "        done\n",
    "    done\n",
    "done\n"
   ]
  },
  {
   "cell_type": "markdown",
   "metadata": {},
   "source": [
    "### Next Steps\n",
    "\n",
    "The results of this mining process are plotted in the python3 notebook 'Results for Frequent Rooted Subtrees - With Split Values in Labels.ipynb'."
   ]
  }
 ],
 "metadata": {
  "kernelspec": {
   "display_name": "Python 3",
   "language": "python",
   "name": "python3"
  },
  "language_info": {
   "codemirror_mode": {
    "name": "ipython",
    "version": 3
   },
   "file_extension": ".py",
   "mimetype": "text/x-python",
   "name": "python",
   "nbconvert_exporter": "python",
   "pygments_lexer": "ipython3",
   "version": "3.8.5"
  }
 },
 "nbformat": 4,
 "nbformat_minor": 2
}
