{
 "cells": [
  {
   "cell_type": "code",
   "execution_count": 36,
   "metadata": {},
   "outputs": [
    {
     "name": "stdout",
     "output_type": "stream",
     "text": [
      "241\n",
      "24.1\n"
     ]
    }
   ],
   "source": [
    "\n",
    "# set dataset name and run, the output results file and plot are exported to the folder SizeComparison/  \n",
    "dataset = \"magic\"\n",
    "\n",
    "#import tikzplotlib\n",
    "\n",
    "#tikzplotlib.save(\"test.tex\")\n",
    "import csv\n",
    "import matplotlib.pyplot as plt\n",
    "import numpy as np\n",
    "#import matplotlib2tikz\n",
    "frequency = 5\n",
    "variant = \"NoLeafEdges\"\n",
    "scoring_function = 'accuracy'\n",
    "pattern_max_size = 6\n",
    "filesPath = \"../frequentTreesInRandomForests/forests/rootedFrequentTrees\"\n",
    "sizePath = \"../frequentTreesInRandomForests/SizeComparison\"\n",
    "nodes_count_list = []\n",
    "samples_count = 10\n",
    "totalCount=0\n",
    "\n",
    "for sample in range(0,samples_count):\n",
    "    \n",
    "      \n",
    "     with open(filesPath+'/'+dataset+'/'+variant+'/'+'leq'+str(pattern_max_size)+'/'+'Samples_Same_Size'+'/'+'RF_5'+'/'+'RF_5_t1_'+str(sample+1)+'.json') as json_file:\n",
    "         line = json_file.read()\n",
    "         list = [i for i in range(len(line)) if line.startswith('\"id\"', i)]\n",
    "         \n",
    "         nodes_count_list.append('RF_5'+'_t1_'+str(sample+1)+','+str(len(list))+',\\n')\n",
    "         totalCount += len(list)\n",
    "                                                \n",
    "json_file.close()\n",
    "\n",
    "print(totalCount)\n",
    "print(totalCount/samples_count)\n",
    "\n",
    "f= open(sizePath+'/'+dataset+'/'+'nodesCount_'+dataset+'_Samples_same_size'+'.csv',\"w\")\n",
    "f.write('RF,nodes Count,\\n')\n",
    "for line in nodes_count_list:\n",
    "        f.write(line)\n",
    "f.write('\\n\\n')        \n",
    "f.write('Average,'+str(totalCount/samples_count))        \n",
    "f.close()"
   ]
  },
  {
   "cell_type": "code",
   "execution_count": null,
   "metadata": {},
   "outputs": [],
   "source": []
  },
  {
   "cell_type": "code",
   "execution_count": null,
   "metadata": {},
   "outputs": [],
   "source": []
  }
 ],
 "metadata": {
  "kernelspec": {
   "display_name": "Python 3",
   "language": "python",
   "name": "python3"
  },
  "language_info": {
   "codemirror_mode": {
    "name": "ipython",
    "version": 3
   },
   "file_extension": ".py",
   "mimetype": "text/x-python",
   "name": "python",
   "nbconvert_exporter": "python",
   "pygments_lexer": "ipython3",
   "version": "3.7.5"
  }
 },
 "nbformat": 4,
 "nbformat_minor": 2
}
